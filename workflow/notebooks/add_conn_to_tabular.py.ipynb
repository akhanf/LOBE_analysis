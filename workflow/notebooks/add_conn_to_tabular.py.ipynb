{
 "cells": [
  {
   "cell_type": "markdown",
   "id": "9bebca3a-2c12-44d2-a3f4-b81d1e4a7f53",
   "metadata": {},
   "source": [
    "# SFC, FC & SC - LOBE vs HCP #"
   ]
  },
  {
   "cell_type": "code",
   "execution_count": null,
   "id": "009e1304-63e0-441b-a9de-0ec57849577d",
   "metadata": {},
   "outputs": [],
   "source": [
    "subjects=snakemake.params.subjects\n",
    "\n",
    "for dataset in subjects.keys():\n",
    "    subjects[dataset] = [ 'sub-'+subject for subject in subjects[dataset] ]"
   ]
  },
  {
   "cell_type": "code",
   "execution_count": null,
   "id": "b91165d2-4d7f-4c62-ab77-c1a073ade18a",
   "metadata": {},
   "outputs": [],
   "source": [
    "subjects"
   ]
  },
  {
   "cell_type": "markdown",
   "id": "675130f2-8089-4dc5-8a7f-dda9c9c565f3",
   "metadata": {},
   "source": [
    "## Importing packages and setting paths ##"
   ]
  },
  {
   "cell_type": "code",
   "execution_count": null,
   "id": "feb603c4-b73e-450c-9786-3eceb06ed625",
   "metadata": {},
   "outputs": [],
   "source": [
    "import pandas as pd\n",
    "import nibabel as nib\n",
    "from glob import glob\n",
    "import numpy as np\n"
   ]
  },
  {
   "cell_type": "code",
   "execution_count": null,
   "id": "ea528f30-1a42-4d1d-92c8-404aae934a83",
   "metadata": {},
   "outputs": [],
   "source": [
    "#first load up the label dseg table\n",
    "atlas='brainnetome'\n",
    "\n",
    "df_labels = pd.read_csv(f'resources/atlas/atlas-{atlas}_dseg.tsv',sep='\\t')\n",
    "df_labels\n",
    "\n",
    "df_network_names = df_labels.networks.unique()\n",
    "df_network_names\n",
    "\n",
    "df_tabular = pd.read_csv(snakemake.input.tsv,sep='\\t')\n",
    "#df_tabular = pd.read_csv('results/analysis/df_tabular.csv',sep='\\t')\n",
    "\n",
    "df_tabular\n",
    "\n"
   ]
  },
  {
   "cell_type": "code",
   "execution_count": null,
   "id": "43561a46-47b4-4450-a04f-9826b66ecf85",
   "metadata": {},
   "outputs": [],
   "source": [
    "# Schaefer Patterns\n",
    "#fc_pattern='results/{dataset}/sub-{subject}/func/sub-{subject}_task-rest_den-91k_desc-preproc_denoise-24HMP8PhysSpikeReg_fwhm-5_atlas-schaefer_bold.pconn.nii'\n",
    "#sc_pattern='results/{dataset}/sub-{subject}/dwi/sub-{subject}_den-91k_atlas-schaefer_struc.pconn.nii'\n",
    "#sfc_pattern='results/{dataset}/sub-{subject}/func/sub-{subject}_task-rest_den-91k_desc-preproc_denoise-24HMP8PhysSpikeReg_fwhm-5_atlas-schaefer_sfc.pscalar.nii'\n",
    "\n",
    "# Brainnetome Patterns\n",
    "# Schaefer Patterns\n",
    "fc_pattern='results/{dataset}/sub-{subject}/func/sub-{subject}_task-rest_den-91k_desc-preproc_denoise-24HMP8PhysSpikeReg_fwhm-5_atlas-brainnetome_bold.pconn.nii'\n",
    "sc_pattern='results/{dataset}/sub-{subject}/dwi/sub-{subject}_den-91k_atlas-brainnetome_struc.pconn.nii'\n",
    "sfc_pattern='results/{dataset}/sub-{subject}/func/sub-{subject}_task-rest_den-91k_desc-preproc_denoise-24HMP8PhysSpikeReg_fwhm-5_atlas-brainnetome_sfc.pscalar.nii'\n",

    "\n",
    "\n"
   ]
  },
  {
   "cell_type": "code",
   "execution_count": null,
   "id": "0d2eb9b7-a219-4370-853c-f683277b6e88",
   "metadata": {
    "scrolled": true
   },
   "outputs": [],
   "source": [
    "sfc_paths={}\n",
    "sfc_paths['HCP'] = sorted(glob(sfc_pattern.format(dataset='HCP',subject='*')))\n",
    "sfc_paths['LOBE'] = sorted(glob(sfc_pattern.format(dataset='LOBE',subject='*')))\n",
    "\n",
    "fc_paths={}\n",
    "fc_paths['HCP'] = sorted(glob(fc_pattern.format(dataset='HCP',subject='*')))\n",
    "fc_paths['LOBE'] = sorted(glob(fc_pattern.format(dataset='LOBE',subject='*')))\n",
    "\n",
    "sc_paths={}\n",
    "sc_paths['HCP'] = sorted(glob(sc_pattern.format(dataset='HCP',subject='*')))\n",
    "sc_paths['LOBE'] = sorted(glob(sc_pattern.format(dataset='LOBE',subject='*')))\n",
    "\n",
    "#print(sfc_paths)\n",
    "#print(fc_paths)\n",
    "#print(sc_paths)"
   ]
  },
  {
   "cell_type": "code",
   "execution_count": null,
   "id": "f1e28751-82aa-42f3-b2e2-649b23f7ecb4",
   "metadata": {},
   "outputs": [],
   "source": [
    "#from snakebids.utils.snakemake_io import glob_wildcards\n",
    "#subjects = glob_wildcards(sfc_pattern.format(dataset='HCP',subject='{subject}'))\n"
   ]
  },
  {
   "cell_type": "code",
   "execution_count": null,
   "id": "6b2e154a-d4c4-473e-858f-33d3af6b0d2b",
   "metadata": {},
   "outputs": [],
   "source": [
    "sfc={}\n",
    "fc={}\n",
    "sc={}\n",
    "num_parcels = nib.load(sfc_paths['LOBE'][0]).get_fdata().shape[1]\n",
    "datasets=['HCP','LOBE']\n",
    "for dataset in datasets:\n",
    "    sfc[dataset] = np.concatenate(  [ nib.load(path).get_fdata()  for path in sfc_paths[dataset]] ,axis=0)\n",
    "    fc[dataset] = np.concatenate(  [ nib.load(path).get_fdata().reshape((1,num_parcels,num_parcels))  for path in fc_paths[dataset]] ,axis=0)\n",
    "    sc[dataset] = np.concatenate(  [ nib.load(path).get_fdata().reshape((1,num_parcels,num_parcels))  for path in sc_paths[dataset]] ,axis=0)"
   ]
  },
  {
   "cell_type": "code",
   "execution_count": null,
   "id": "0dbe5e34-e2e1-4473-a72f-a1f8d9069f5d",
   "metadata": {},
   "outputs": [],
   "source": []
  },
  {
   "cell_type": "code",
   "execution_count": null,
   "id": "ac46bd71-4c51-4f42-a55b-27d1d7266d46",
   "metadata": {},
   "outputs": [],
   "source": [
    "df_tabular"
   ]
  },
  {
   "cell_type": "code",
   "execution_count": null,
   "id": "ae272858-9fe4-4d73-b18a-55f7fc58bd7f",
   "metadata": {},
   "outputs": [],
   "source": [
    "\n",
    "#this adds RSFC features as new columns to the df_tabular\n",
    "\n",
    "df_list=[]\n",
    "for dataset in datasets:\n",
    "    df_=pd.DataFrame(sfc[dataset],\n",
    "                 columns=('RSFC_'+df_labels.name))\n",
    "    \n",
    "    df_tabular_ = df_tabular.query(f\"dataset == '{dataset}'\")\n",
    "    df_['participant_id'] = snakemake.params.subjects[dataset]\n",
    "    \n",
    "    df_merged_ = pd.merge(df_tabular_,df_,how='left',on='participant_id')\n",
    "    df_list.append(df_merged_)\n",
    "\n",
    "df_tabular = pd.concat(df_list)"
   ]
  },
  {
   "cell_type": "markdown",
   "id": "bde68925-3d3a-42c7-9f44-e4995175e04e",
   "metadata": {},
   "source": [
    "## Average FC per parcel - group difference ##"
   ]
  },
  {
   "cell_type": "code",
   "execution_count": null,
   "id": "505fbb53-cc82-4ea1-a28d-e9a8b75235dc",
   "metadata": {},
   "outputs": [],
   "source": [
    "#set diagonal to be nan\n",
    "x1 = fc['HCP']\n",
    "for s in range(x1.shape[0]):\n",
    "    conn = x1[s,:,:]    \n",
    "    mask = np.eye(num_parcels)\n",
    "    conn[mask==1] = np.nan\n",
    "    x1[s,:,:] = conn\n",
    "\n",
    "x2 = fc['LOBE']\n",
    "for s in range(x2.shape[0]):\n",
    "    conn = x2[s,:,:]\n",
    "    mask = np.eye(num_parcels)\n",
    "    conn[mask==1] = np.nan\n",
    "    x2[s,:,:] = conn"
   ]
  },
  {
   "cell_type": "code",
   "execution_count": null,
   "id": "fe161e93-d332-449e-ac94-88d0cfd2d1dd",
   "metadata": {},
   "outputs": [],
   "source": []
  },
  {
   "cell_type": "code",
   "execution_count": null,
   "id": "1d6e7c7f-93fa-4675-b0f8-ae092f3ab3f5",
   "metadata": {},
   "outputs": [],
   "source": [
    "x1.shape"
   ]
  },
  {
   "cell_type": "code",
   "execution_count": null,
   "id": "de4b67dd-8164-4ebe-a0fa-76203f270d28",
   "metadata": {},
   "outputs": [],
   "source": [
    "x1 = np.nanmean(x1,axis=2)\n",
    "x2 = np.nanmean(x2,axis=2)"
   ]
  },
  {
   "cell_type": "code",
   "execution_count": null,
   "id": "b1cd7545-5740-4021-ac4e-75838de95e42",
   "metadata": {},
   "outputs": [],
   "source": [
    "x1.shape"
   ]
  },
  {
   "cell_type": "code",
   "execution_count": null,
   "id": "ad83ddfe-7d28-4805-81c3-52c9927154ec",
   "metadata": {},
   "outputs": [],
   "source": [
    "x2.shape"
   ]
  },
  {
   "cell_type": "code",
   "execution_count": null,
   "id": "77612122-7ab3-48ba-bb7b-fadc1ed013d8",
   "metadata": {},
   "outputs": [],
   "source": [
    "#add FC parcel avgs to tabular df\n",
    "\n",
    "data_={'HCP':x1,'LOBE':x2}\n",
    "\n",
    "df_list=[]\n",
    "for dataset in datasets:\n",
    "\n",
    "    \n",
    "    df_=pd.DataFrame(data_[dataset],\n",
    "                 columns=('RFC_'+df_labels.name))\n",
    "    \n",
    "    df_tabular_ = df_tabular.query(f\"dataset == '{dataset}'\")\n",
    "    df_['participant_id'] = snakemake.params.subjects[dataset]\n",
    "\n",
    "    \n",
    "    df_merged_ = pd.merge(df_tabular_,df_,how='left',on='participant_id')\n",
    "    df_list.append(df_merged_)\n",
    "\n",
    "df_tabular = pd.concat(df_list)"
   ]
  },
  {
   "cell_type": "markdown",
   "id": "b11c1aac-5478-4bb0-94d5-8b80ba390a19",
   "metadata": {},
   "source": [
    "# Structural Connectivity #"
   ]
  },
  {
   "cell_type": "markdown",
   "id": "17cda9e7-05f9-40f1-aacd-bcb5a104a27d",
   "metadata": {},
   "source": [
    "## Average SC per parcel - group difference ##"
   ]
  },
  {
   "cell_type": "code",
   "execution_count": null,
   "id": "f31ff5ca-6866-48d7-b076-c2803b05de23",
   "metadata": {},
   "outputs": [],
   "source": [
    "#set diagonal to be nan\n",
    "x1 = sc['HCP']\n",
    "for s in range(x1.shape[0]):\n",
    "    conn = x1[s,:,:]    \n",
    "    mask = np.eye(num_parcels)\n",
    "    conn[mask==1] = np.nan\n",
    "    x1[s,:,:] = conn\n",
    "\n",
    "x2 = sc['LOBE']\n",
    "for s in range(x2.shape[0]):\n",
    "    conn = x2[s,:,:]\n",
    "    mask = np.eye(num_parcels)\n",
    "    conn[mask==1] = np.nan\n",
    "    x2[s,:,:] = conn"
   ]
  },
  {
   "cell_type": "code",
   "execution_count": null,
   "id": "a57c1723-668c-4e39-b942-595302190e2e",
   "metadata": {},
   "outputs": [],
   "source": [
    "x1.shape"
   ]
  },
  {
   "cell_type": "code",
   "execution_count": null,
   "id": "a8808731-0243-4c28-9b18-3b75a0685b10",
   "metadata": {},
   "outputs": [],
   "source": [
    "x1 = np.nanmean(x1,axis=2)\n",
    "x1.shape\n",
    "x2 = np.nanmean(x2,axis=2)\n",
    "x2.shape"
   ]
  },
  {
   "cell_type": "code",
   "execution_count": null,
   "id": "407e956b-7d84-4ed7-9d39-a586a45ec619",
   "metadata": {},
   "outputs": [],
   "source": [
    "x1.shape"
   ]
  },
  {
   "cell_type": "code",
   "execution_count": null,
   "id": "109c3923-2baf-418e-8c56-737525cfc1d8",
   "metadata": {},
   "outputs": [],
   "source": [
    "x2.shape"
   ]
  },
  {
   "cell_type": "code",
   "execution_count": null,
   "id": "409b33bf-d980-4cb3-96ba-19bf34d7be81",
   "metadata": {},
   "outputs": [],
   "source": [
    "#add SC parcel avgs to tabular df\n",
    "\n",
    "data_={'HCP':x1,'LOBE':x2}\n",
    "\n",
    "df_list=[]\n",
    "for dataset in datasets:\n",
    "\n",
    "    \n",
    "    df_=pd.DataFrame(data_[dataset],\n",
    "                 columns=('RSC_'+df_labels.name))\n",
    "    \n",
    "    df_tabular_ = df_tabular.query(f\"dataset == '{dataset}'\")\n",
    "    df_['participant_id'] = snakemake.params.subjects[dataset]\n",
    "\n",
    "    df_merged_ = pd.merge(df_tabular_,df_,how='left',on='participant_id')\n",
    "    df_list.append(df_merged_)\n",
    "\n",
    "df_tabular = pd.concat(df_list)"
   ]
  },
  {
   "cell_type": "code",
   "execution_count": null,
   "id": "422664a0-bb44-4a0c-9a06-5a4ea9f653cd",
   "metadata": {},
   "outputs": [],
   "source": [
    "df_tabular"
   ]
  },
  {
   "cell_type": "markdown",
   "id": "2444036b-9dcc-486b-9f6d-476ebd4c552e",
   "metadata": {},
   "source": [
    "# Network-Wise, LOBE vs HCP #"
   ]
  },
  {
   "cell_type": "code",
   "execution_count": null,
   "id": "6a62bdce-4b18-4bdf-856b-416a86e94ea5",
   "metadata": {},
   "outputs": [],
   "source": [

    "# Schaefer patterns\n",
    "#fc_network_pattern='results/{dataset}/sub-{subject}/func/sub-{subject}_task-rest_den-32k_desc-preproc_denoise-24HMP8PhysSpikeReg_fwhm-5_atlas-schaefer_netbold.pconn.nii'\n",
    "#sc_network_pattern='results/{dataset}/sub-{subject}/dwi/sub-{subject}_den-32k_atlas-schaefer_netstruc.pconn.nii'\n",
    "#sfc_network_pattern='results/{dataset}/sub-{subject}/func/sub-{subject}_task-rest_den-32k_desc-preproc_denoise-24HMP8PhysSpikeReg_fwhm-5_atlas-schaefer_netsfc.pconn.nii'\n",
    "\n",
    "# Brainnetome Patterns\n",
    "fc_network_pattern='results/{dataset}/sub-{subject}/func/sub-{subject}_task-rest_den-91k_desc-preproc_denoise-24HMP8PhysSpikeReg_fwhm-5_atlas-brainnetome_netbold.pconn.nii'\n",
    "sc_network_pattern='results/{dataset}/sub-{subject}/dwi/sub-{subject}_den-91k_atlas-brainnetome_netstruc.pconn.nii'\n",
    "sfc_network_pattern='results/{dataset}/sub-{subject}/func/sub-{subject}_task-rest_den-91k_desc-preproc_denoise-24HMP8PhysSpikeReg_fwhm-5_atlas-brainnetome_netsfc.pconn.nii'\n",
    "\n",
    "datasets=['HCP','LOBE']"
   ]
  },
  {
   "cell_type": "code",
   "execution_count": null,
   "id": "d1061c13-0457-4357-85d6-ae675909a996",
   "metadata": {},
   "outputs": [],
   "source": [
    "sfc_netpaths={}\n",
    "sfc_netpaths['HCP'] = sorted(glob(sfc_network_pattern.format(dataset='HCP',subject='*')))\n",
    "sfc_netpaths['LOBE'] = sorted(glob(sfc_network_pattern.format(dataset='LOBE',subject='*')))\n",
    "\n",
    "fc_netpaths={}\n",
    "fc_netpaths['HCP'] = sorted(glob(fc_network_pattern.format(dataset='HCP',subject='*')))\n",
    "fc_netpaths['LOBE'] = sorted(glob(fc_network_pattern.format(dataset='LOBE',subject='*')))\n",
    "\n",
    "sc_netpaths={}\n",
    "sc_netpaths['HCP'] = sorted(glob(sc_network_pattern.format(dataset='HCP',subject='*')))\n",
    "sc_netpaths['LOBE'] = sorted(glob(sc_network_pattern.format(dataset='LOBE',subject='*')))\n",
    "\n",
    "#print(sfc_netpaths)\n",
    "#print(fc_netpaths)\n",
    "#print(sc_netpaths)"
   ]
  },
  {
   "cell_type": "code",
   "execution_count": null,
   "id": "f5a02458-6527-48f9-9a7b-33d774f80ddd",
   "metadata": {},
   "outputs": [],
   "source": [
    "sfc={}\n",
    "fc={}\n",
    "sc={}\n",
    "num_parcels = nib.load(sfc_netpaths['LOBE'][0]).get_fdata().shape[1]\n",
    "\n",
    "for dataset in datasets:\n",
    "\n",
    "    sfc[dataset] = np.concatenate(  [ nib.load(path).get_fdata().reshape((1,num_parcels,num_parcels))  for path in sfc_netpaths[dataset]] ,axis=0)  \n",
    "    #for path in sfc_netpaths[dataset]] ,axis=0)\n",
    "    fc[dataset] = np.concatenate(  [ nib.load(path).get_fdata().reshape((1,num_parcels,num_parcels))  for path in fc_netpaths[dataset]] ,axis=0)\n",
    "    sc[dataset] = np.concatenate(  [ nib.load(path).get_fdata().reshape((1,num_parcels,num_parcels))  for path in sc_netpaths[dataset]] ,axis=0)"
   ]
  },
  {
   "cell_type": "markdown",
   "id": "f668e712-e9bc-447a-bce2-59bc3e2efc5d",
   "metadata": {},
   "source": [
    "## SFC ##"
   ]
  },
  {
   "cell_type": "code",
   "execution_count": null,
   "id": "564ec826-4b44-4ef7-802e-3e5d639de8c3",
   "metadata": {},
   "outputs": [],
   "source": [
    "sfc['LOBE'].shape"
   ]
  },
  {
   "cell_type": "markdown",
   "id": "8a070d7b-6fec-4f74-aca4-45a8c04379b5",
   "metadata": {},
   "source": [
    "### Average per Network - group difference ###"
   ]
  },
  {
   "cell_type": "code",
   "execution_count": null,
   "id": "0610acaf-995a-434d-87ca-b2a9b8467be6",
   "metadata": {},
   "outputs": [],
   "source": [
    "#set diagonal to be nan\n",
    "x1 = sfc['HCP']\n",
    "for s in range(x1.shape[0]):\n",
    "    conn = x1[s,:,:]    \n",
    "    mask = np.eye(num_parcels)\n",
    "    conn[mask==1] = np.nan\n",
    "    x1[s,:,:] = conn\n",
    "\n",
    "x2 = sfc['LOBE']\n",
    "for s in range(x2.shape[0]):\n",
    "    conn = x2[s,:,:]\n",
    "    mask = np.eye(num_parcels)\n",
    "    conn[mask==1] = np.nan\n",
    "    x2[s,:,:] = conn"
   ]
  },
  {
   "cell_type": "code",
   "execution_count": null,
   "id": "b24f81ec-2f9d-4e96-9852-1cc43c46f5cd",
   "metadata": {},
   "outputs": [],
   "source": [
    "x1.shape"
   ]
  },
  {
   "cell_type": "code",
   "execution_count": null,
   "id": "24f6204e-f27d-4530-9c77-95462908d635",
   "metadata": {},
   "outputs": [],
   "source": [
    "x1 = np.nanmean(x1,axis=2)\n",
    "x2 = np.nanmean(x2,axis=2)"
   ]
  },
  {
   "cell_type": "code",
   "execution_count": null,
   "id": "4388fdd2-f06c-42f8-8e55-4a7301cac778",
   "metadata": {},
   "outputs": [],
   "source": [
    "x1.shape"
   ]
  },
  {
   "cell_type": "code",
   "execution_count": null,
   "id": "9b2c6351-a046-424f-aa67-b503bc676495",
   "metadata": {},
   "outputs": [],
   "source": [
    "x1"
   ]
  },
  {
   "cell_type": "code",
   "execution_count": null,
   "id": "0278b8b8-7ded-46dc-8d85-3d7cb3254db3",
   "metadata": {},
   "outputs": [],
   "source": [
    "x2.shape"
   ]
  },
  {
   "cell_type": "code",
   "execution_count": null,
   "id": "10dc1a51-6fdd-459c-ba92-85cc3929aad1",
   "metadata": {},
   "outputs": [],
   "source": [
    "#add SFC network avgs to tabular df\n",
    "\n",
    "data_={'HCP':x1,'LOBE':x2}\n",
    "\n",
    "df_list=[]\n",
    "for dataset in datasets:\n",
    "\n",
    "    \n",
    "    df_=pd.DataFrame(data_[dataset],\n",
    "                 columns=('NSFC_'+df_network_names))\n",
    "    \n",
    "    df_tabular_ = df_tabular.query(f\"dataset == '{dataset}'\")\n",
    "    df_['participant_id'] = snakemake.params.subjects[dataset]\n",
    "\n",
    "    \n",
    "    df_merged_ = pd.merge(df_tabular_,df_,how='left',on='participant_id')\n",
    "    df_list.append(df_merged_)\n",
    "\n",
    "df_tabular = pd.concat(df_list)"
   ]
  },
  {
   "cell_type": "code",
   "execution_count": null,
   "id": "6f574ba7-6394-43c7-a807-2d30f293ff7f",
   "metadata": {},
   "outputs": [],
   "source": [
    "print(df_tabular)"
   ]
  },
  {
   "cell_type": "markdown",
   "id": "79d99455-ea20-4ef6-b1c0-6f98eab3903b",
   "metadata": {},
   "source": [
    "## Functional Connectivity ##"
   ]
  },
  {
   "cell_type": "code",
   "execution_count": null,
   "id": "c7331449-9e53-401c-9d40-114abeda555c",
   "metadata": {},
   "outputs": [],
   "source": [
    "#set diagonal to be nan\n",
    "x1 = fc['HCP']\n",
    "for s in range(x1.shape[0]):\n",
    "    conn = x1[s,:,:]    \n",
    "    mask = np.eye(num_parcels)\n",
    "    conn[mask==1] = np.nan\n",
    "    x1[s,:,:] = conn\n",
    "\n",
    "x2 = fc['LOBE']\n",
    "for s in range(x2.shape[0]):\n",
    "    conn = x2[s,:,:]\n",
    "    mask = np.eye(num_parcels)\n",
    "    conn[mask==1] = np.nan\n",
    "    x2[s,:,:] = conn"
   ]
  },
  {
   "cell_type": "markdown",
   "id": "8c6c4dbd-d21d-4f54-9e52-328a2fb95beb",
   "metadata": {},
   "source": [
    "### Average FC per network - group difference ###"
   ]
  },
  {
   "cell_type": "code",
   "execution_count": null,
   "id": "ec9908ba-3dac-4216-812e-6fcde7238844",
   "metadata": {},
   "outputs": [],
   "source": [
    "x1 = np.nanmean(x1,axis=2)\n",
    "x2 = np.nanmean(x2,axis=2)"
   ]
  },
  {
   "cell_type": "code",
   "execution_count": null,
   "id": "0222c9a7-d716-4a41-b5ca-50203fa787c0",
   "metadata": {},
   "outputs": [],
   "source": [
    "x2.shape"
   ]
  },
  {
   "cell_type": "code",
   "execution_count": null,
   "id": "227f98e0-aa64-4d26-9bdd-ff20a1735dfa",
   "metadata": {},
   "outputs": [],
   "source": [
    "#add FC network avgs to tabular df\n",
    "\n",
    "data_={'HCP':x1,'LOBE':x2}\n",
    "\n",
    "df_list=[]\n",
    "for dataset in datasets:\n",
    "\n",
    "    \n",
    "    df_=pd.DataFrame(data_[dataset],\n",
    "                 columns=('NFC_'+df_network_names))\n",
    "    \n",
    "    df_tabular_ = df_tabular.query(f\"dataset == '{dataset}'\")\n",
    "    df_['participant_id'] = snakemake.params.subjects[dataset]\n",
    "\n",
    "    \n",
    "    df_merged_ = pd.merge(df_tabular_,df_,how='left',on='participant_id')\n",
    "    df_list.append(df_merged_)\n",
    "\n",
    "df_tabular = pd.concat(df_list)"
   ]
  },
  {
   "cell_type": "code",
   "execution_count": null,
   "id": "5f51db31-221b-44f2-9d2e-189fd21e7c64",
   "metadata": {},
   "outputs": [],
   "source": [
    "df_tabular"
   ]
  },
  {
   "cell_type": "markdown",
   "id": "af379aac-4ed3-4893-b8a8-ec5d61267719",
   "metadata": {},
   "source": [
    "## Structural Connectivity ##"
   ]
  },
  {
   "cell_type": "code",
   "execution_count": null,
   "id": "040aee19-1527-447b-bc97-1463390d1fd0",
   "metadata": {},
   "outputs": [],
   "source": [
    "#set diagonal to be nan\n",
    "x1 = sc['HCP']\n",
    "for s in range(x1.shape[0]):\n",
    "    conn = x1[s,:,:]    \n",
    "    mask = np.eye(num_parcels)\n",
    "    conn[mask==1] = np.nan\n",
    "    x1[s,:,:] = conn\n",
    "\n",
    "x2 = sc['LOBE']\n",
    "for s in range(x2.shape[0]):\n",
    "    conn = x2[s,:,:]\n",
    "    mask = np.eye(num_parcels)\n",
    "    conn[mask==1] = np.nan\n",
    "    x2[s,:,:] = conn"
   ]
  },
  {
   "cell_type": "markdown",
   "id": "bea3aa04-5b72-4031-9fa2-8cf7d521970e",
   "metadata": {},
   "source": [
    "### Average SC per network - group differences ###"
   ]
  },
  {
   "cell_type": "code",
   "execution_count": null,
   "id": "cf62f71b-be0f-40ca-ae48-100c7e3f6ff9",
   "metadata": {},
   "outputs": [],
   "source": [
    "x1 = np.nanmean(x1,axis=2)\n",
    "x2 = np.nanmean(x2,axis=2)"
   ]
  },
  {
   "cell_type": "code",
   "execution_count": null,
   "id": "fbf2d926-9c61-4b61-bcb1-4db07adfba16",
   "metadata": {},
   "outputs": [],
   "source": [
    "x2.shape"
   ]
  },
  {
   "cell_type": "code",
   "execution_count": null,
   "id": "16d45d4e-8bbe-4ff3-9b21-4db8fe452e52",
   "metadata": {},
   "outputs": [],
   "source": [
    "#add SC network avgs to tabular df\n",
    "\n",
    "data_={'HCP':x1,'LOBE':x2}\n",
    "\n",
    "df_list=[]\n",
    "for dataset in datasets:\n",
    "\n",
    "    \n",
    "    df_=pd.DataFrame(data_[dataset],\n",
    "                 columns=('NSC_'+df_network_names))\n",
    "    \n",
    "    df_tabular_ = df_tabular.query(f\"dataset == '{dataset}'\")\n",
    "    df_['participant_id'] = snakemake.params.subjects[dataset]\n",
    "\n",
    "    df_merged_ = pd.merge(df_tabular_,df_,how='left',on='participant_id')\n",
    "    df_list.append(df_merged_)\n",
    "\n",
    "df_tabular = pd.concat(df_list)"
   ]
  },
  {
   "cell_type": "code",
   "execution_count": null,
   "id": "e9bd5549-2b78-471a-b8e0-0a170126fe4d",
   "metadata": {},
   "outputs": [],
   "source": [
    "print(df_tabular)"
   ]
  },
  {
   "cell_type": "markdown",
   "id": "a0aa0424-4500-4f0c-9932-98b4b591544c",
   "metadata": {},
   "source": [
    "### Save regional and network SFC, SC & FC to masterlist ###"
   ]
  },
  {
   "cell_type": "code",
   "execution_count": null,
   "id": "f4687a93-0fd0-482c-9493-9e919f77a013",
   "metadata": {},
   "outputs": [],
   "source": [
    "df_tabular.to_csv(snakemake.output.tsv,sep='\\t',index=False)\n",
    "\n",
    "\n",
    "df_tabular "
   ]
  },
  {
   "cell_type": "code",
   "execution_count": null,
   "id": "d6afb859-6ede-4fc7-831f-9295a369595a",
   "metadata": {},
   "outputs": [],
   "source": []
  }
 ],
 "metadata": {
  "kernelspec": {
   "display_name": "Python 3 (ipykernel)",
   "language": "python",
   "name": "python3"
  },
  "language_info": {
   "codemirror_mode": {
    "name": "ipython",
    "version": 3
   },
   "file_extension": ".py",
   "mimetype": "text/x-python",
   "name": "python",
   "nbconvert_exporter": "python",
   "pygments_lexer": "ipython3",
   "version": "3.11.10"
  }
 },
 "nbformat": 4,
 "nbformat_minor": 5
}
