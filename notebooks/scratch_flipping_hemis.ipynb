{
 "cells": [
  {
   "cell_type": "markdown",
   "id": "435d7309-be1b-432a-bcfb-45f93e280266",
   "metadata": {},
   "source": [
    "# Seperating tsv into left and right sided patients, ignoring bilateral patients"
   ]
  },
  {
   "cell_type": "code",
   "execution_count": 3,
   "id": "fc164865-28ad-443f-8260-6c96ac5b2e57",
   "metadata": {},
   "outputs": [],
   "source": [
    "import pandas as pd\n",
    "\n",
    "# Read the input TSV file\n",
    "df = pd.read_csv('../resources/merged_tabular_withconn.tsv',sep='\\t')\n",
    "\n",
    "# Filter the DataFrame\n",
    "filtered_df = df[(df['lat_final_left'] == 1) & (df['lat_final_bilateral'] == 0)]\n",
    "\n",
    "# Write the output TSV file\n",
    "filtered_df.to_csv('../resources/tabular_withconn_left.tsv', sep='\\t', index=False)"
   ]
  },
  {
   "cell_type": "code",
   "execution_count": 4,
   "id": "b4fcfa8e-3608-4d19-93ac-628e5242a090",
   "metadata": {},
   "outputs": [],
   "source": [
    "# Read the input TSV file\n",
    "df = pd.read_csv('../resources/merged_tabular_withconn.tsv',sep='\\t')\n",
    "\n",
    "# Filter the DataFrame\n",
    "filtered_df = df[(df['lat_final_right'] == 1) & (df['lat_final_bilateral'] == 0)]\n",
    "\n",
    "# Write the output TSV file\n",
    "filtered_df.to_csv('../resources/tabular_withconn_right.tsv', sep='\\t', index=False)"
   ]
  },
  {
   "cell_type": "code",
   "execution_count": 5,
   "id": "eb297675-395c-44fc-a9af-c08ac7c07b90",
   "metadata": {},
   "outputs": [],
   "source": [
    "df = pd.read_csv('../resources/tabular_withconn_left.tsv',sep='\\t')\n",
    "\n",
    "# Rename columns\n",
    "df.columns = df.columns.str.replace('LH', 'ipsi', regex=False).str.replace('RH', 'contra', regex=False)\n",
    "\n",
    "# Write the output TSV file\n",
    "df.to_csv('../resources/tabular_withconn_left_renamed.tsv', sep='\\t', index=False)"
   ]
  },
  {
   "cell_type": "code",
   "execution_count": 6,
   "id": "f7113adb-2621-4cb7-97ef-05817f8b99da",
   "metadata": {},
   "outputs": [],
   "source": [
    "df = pd.read_csv('../resources/tabular_withconn_right.tsv',sep='\\t')\n",
    "\n",
    "# Rename columns\n",
    "df.columns = df.columns.str.replace('RH', 'ipsi', regex=False).str.replace('LH', 'contra', regex=False)\n",
    "\n",
    "# Write the output TSV file\n",
    "df.to_csv('../resources/tabular_withconn_right_renamed.tsv', sep='\\t', index=False)"
   ]
  },
  {
   "cell_type": "code",
   "execution_count": 7,
   "id": "ac9374f6-f9e4-40f6-83a7-a83617754f78",
   "metadata": {},
   "outputs": [],
   "source": [
    "# making a new tsv with just hcp so I can rename the columns\n",
    "\n",
    "# Read the input TSV file\n",
    "df = pd.read_csv('../resources/merged_tabular_withconn.tsv',sep='\\t')\n",
    "\n",
    "# Filter the DataFrame\n",
    "filtered_df = df[df['dataset'] == 'HCP']\n",
    "\n",
    "# Write the output TSV file\n",
    "filtered_df.to_csv('../resources/tabular_withconn_hcp.tsv', sep='\\t', index=False)"
   ]
  },
  {
   "cell_type": "code",
   "execution_count": 8,
   "id": "e484829a-ae72-4979-a571-261a915a4a03",
   "metadata": {},
   "outputs": [],
   "source": [
    "# rename HCP so that left = ipsi and right = contra\n",
    "\n",
    "df = pd.read_csv('../resources/tabular_withconn_hcp.tsv',sep='\\t')\n",
    "\n",
    "# Rename columns\n",
    "df.columns = df.columns.str.replace('LH', 'ipsi', regex=False).str.replace('RH', 'contra', regex=False)\n",
    "\n",
    "# Write the output TSV file\n",
    "df.to_csv('../resources/tabular_withconn_hcp_renamed.tsv', sep='\\t', index=False)"
   ]
  },
  {
   "cell_type": "code",
   "execution_count": 11,
   "id": "57710a43-e794-48d9-ac33-09ec5a20487d",
   "metadata": {},
   "outputs": [],
   "source": [
    "# put together hcp, left and right renamed\n",
    "\n",
    "# Read the input TSV files\n",
    "df1 = pd.read_csv('../resources/tabular_withconn_hcp_renamed.tsv', sep='\\t')\n",
    "df2 = pd.read_csv('../resources/tabular_withconn_left_renamed.tsv', sep='\\t')\n",
    "df3 = pd.read_csv('../resources/tabular_withconn_right_renamed.tsv', sep='\\t')\n",
    "\n",
    "# Concatenate the DataFrames\n",
    "combined_df = pd.concat([df1, df2, df3], ignore_index=True)\n"
   ]
  },
  {
   "cell_type": "code",
   "execution_count": 12,
   "id": "6432079f-a371-4b55-a3f7-e08b177b6354",
   "metadata": {},
   "outputs": [],
   "source": [
    "# putting lobe into numerical order\n",
    "\n",
    "# Read the merged TSV file (or the DataFrame you have)\n",
    "df = combined_df\n",
    "\n",
    "# Step 1: Filter the DataFrame for rows with dataset = 'LOBE'\n",
    "lobe_df = df[df['dataset'] == 'LOBE']\n",
    "\n",
    "# Step 2: Sort the filtered DataFrame by participant_id\n",
    "lobe_df_sorted = lobe_df.sort_values(by='participant_id')\n",
    "\n",
    "# Step 3: Combine the sorted DataFrame with the rest of the data\n",
    "# (keep rows that do not have dataset = 'LOBE')\n",
    "other_df = df[df['dataset'] != 'LOBE']\n",
    "final_df = pd.concat([lobe_df_sorted, other_df], ignore_index=True)\n",
    "\n",
    "# Write the final output TSV file\n",
    "final_df.to_csv('../resources/merged_tabular_withconn_flipped.tsv', sep='\\t', index=False)"
   ]
  },
  {
   "cell_type": "code",
   "execution_count": null,
   "id": "e7e30e13-1ccd-4137-8c85-068d687fc3a9",
   "metadata": {},
   "outputs": [],
   "source": []
  }
 ],
 "metadata": {
  "kernelspec": {
   "display_name": "Python 3 (ipykernel)",
   "language": "python",
   "name": "python3"
  },
  "language_info": {
   "codemirror_mode": {
    "name": "ipython",
    "version": 3
   },
   "file_extension": ".py",
   "mimetype": "text/x-python",
   "name": "python",
   "nbconvert_exporter": "python",
   "pygments_lexer": "ipython3",
   "version": "3.11.9"
  }
 },
 "nbformat": 4,
 "nbformat_minor": 5
}
