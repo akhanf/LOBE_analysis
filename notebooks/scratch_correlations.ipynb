{
 "cells": [
  {
   "cell_type": "code",
   "execution_count": 25,
   "id": "f39aaabe-455a-4bfa-8f3b-2f6ff853a690",
   "metadata": {},
   "outputs": [
    {
     "ename": "ModuleNotFoundError",
     "evalue": "No module named 'pingouin'",
     "output_type": "error",
     "traceback": [
      "\u001b[0;31m---------------------------------------------------------------------------\u001b[0m",
      "\u001b[0;31mModuleNotFoundError\u001b[0m                       Traceback (most recent call last)",
      "Cell \u001b[0;32mIn[25], line 10\u001b[0m\n\u001b[1;32m      8\u001b[0m \u001b[38;5;28;01mfrom\u001b[39;00m \u001b[38;5;21;01mstatsmodels\u001b[39;00m\u001b[38;5;21;01m.\u001b[39;00m\u001b[38;5;21;01mstats\u001b[39;00m\u001b[38;5;21;01m.\u001b[39;00m\u001b[38;5;21;01mmultitest\u001b[39;00m \u001b[38;5;28;01mimport\u001b[39;00m fdrcorrection\n\u001b[1;32m      9\u001b[0m \u001b[38;5;28;01mfrom\u001b[39;00m \u001b[38;5;21;01mstatsmodels\u001b[39;00m\u001b[38;5;21;01m.\u001b[39;00m\u001b[38;5;21;01mtsa\u001b[39;00m\u001b[38;5;21;01m.\u001b[39;00m\u001b[38;5;21;01mstattools\u001b[39;00m \u001b[38;5;28;01mimport\u001b[39;00m pacf\n\u001b[0;32m---> 10\u001b[0m \u001b[38;5;28;01mfrom\u001b[39;00m \u001b[38;5;21;01mpingouin\u001b[39;00m \u001b[38;5;28;01mimport\u001b[39;00m partial_corr\n",
      "\u001b[0;31mModuleNotFoundError\u001b[0m: No module named 'pingouin'"
     ]
    }
   ],
   "source": [
    "import pandas as pd\n",
    "import nibabel as nib\n",
    "from glob import glob\n",
    "import numpy as np\n",
    "import statsmodels.api as sp\n",
    "#imported the full paths since it wasn't working otherwise - not sure why \n",
    "from statsmodels.stats.weightstats import ttest_ind\n",
    "from statsmodels.stats.multitest import fdrcorrection\n",
    "from statsmodels.tsa.stattools import pacf\n",
    "from pingouin import partial_corr"
   ]
  },
  {
   "cell_type": "code",
   "execution_count": 7,
   "id": "33ace3fe-fea6-4755-99af-8498ed68480d",
   "metadata": {},
   "outputs": [],
   "source": [
    "# read in df_tabular with regional and network based data \n",
    "\n",
    "df_tabular = pd.read_csv('../resources/merged_tabular_withconn_flipped.tsv',sep='\\t')"
   ]
  },
  {
   "cell_type": "code",
   "execution_count": null,
   "id": "996a5fb5-8f96-4eb6-8f30-d753cf8d8332",
   "metadata": {},
   "outputs": [],
   "source": [
    "pacf,confint = pacf(x, nlags=None, method='ywadjusted', alpha=None)\n",
    "pacf"
   ]
  },
  {
   "cell_type": "code",
   "execution_count": 8,
   "id": "cb03bc40-e453-4a09-acbe-77c0a44ab1c5",
   "metadata": {},
   "outputs": [],
   "source": [
    "df_LOBE = df_tabular[df_tabular[\"dataset\"] == \"LOBE\"]\n",
    "df_HCP = df_tabular[df_tabular[\"dataset\"] == \"HCP\"]"
   ]
  },
  {
   "cell_type": "code",
   "execution_count": 18,
   "id": "51d60f88-1a32-49eb-8abe-b8a6057131e2",
   "metadata": {},
   "outputs": [],
   "source": [
    "x1 = df_LOBE[\"NSFC_SomMot\"]\n",
    "x2 = df_HCP[\"NSFC_SomMot\"]"
   ]
  },
  {
   "cell_type": "code",
   "execution_count": 14,
   "id": "eb23216f-cb10-4ec8-a998-1bb3b54b90e7",
   "metadata": {},
   "outputs": [
    {
     "name": "stdout",
     "output_type": "stream",
     "text": [
      "17     0.038711\n",
      "18     0.022927\n",
      "19     0.020210\n",
      "20     0.115288\n",
      "21     0.068482\n",
      "         ...   \n",
      "353    0.028379\n",
      "354    0.025028\n",
      "355    0.024478\n",
      "356    0.016280\n",
      "357    0.065436\n",
      "Name: NSFC_SomMot, Length: 341, dtype: float64\n"
     ]
    }
   ],
   "source": [
    "print(x2)"
   ]
  },
  {
   "cell_type": "code",
   "execution_count": 21,
   "id": "9b9b858a-6028-4180-a867-903ef4d53e18",
   "metadata": {},
   "outputs": [
    {
     "ename": "NameError",
     "evalue": "name 'pg' is not defined",
     "output_type": "error",
     "traceback": [
      "\u001b[0;31m---------------------------------------------------------------------------\u001b[0m",
      "\u001b[0;31mNameError\u001b[0m                                 Traceback (most recent call last)",
      "Cell \u001b[0;32mIn[21], line 1\u001b[0m\n\u001b[0;32m----> 1\u001b[0m \u001b[43mpg\u001b[49m\u001b[38;5;241m.\u001b[39mpartial_corr(x\u001b[38;5;241m=\u001b[39mx1, y\u001b[38;5;241m=\u001b[39mx2, covar\u001b[38;5;241m=\u001b[39m\u001b[38;5;28;01mNone\u001b[39;00m, x_covar\u001b[38;5;241m=\u001b[39m\u001b[38;5;28;01mNone\u001b[39;00m, y_covar\u001b[38;5;241m=\u001b[39m\u001b[38;5;28;01mNone\u001b[39;00m, alternative\u001b[38;5;241m=\u001b[39m\u001b[38;5;124m'\u001b[39m\u001b[38;5;124mtwo-sided\u001b[39m\u001b[38;5;124m'\u001b[39m, method\u001b[38;5;241m=\u001b[39m\u001b[38;5;124m'\u001b[39m\u001b[38;5;124mpearson\u001b[39m\u001b[38;5;124m'\u001b[39m)\n\u001b[1;32m      2\u001b[0m \u001b[38;5;66;03m#pg.partial_corr(data=df, x1, x2, covar='currentGrade')\u001b[39;00m\n",
      "\u001b[0;31mNameError\u001b[0m: name 'pg' is not defined"
     ]
    }
   ],
   "source": [
    "pg.partial_corr(x=x1, y=x2, covar=None, x_covar=None, y_covar=None, alternative='two-sided', method='pearson')\n",
    "#pg.partial_corr(data=df, x1, x2, covar='currentGrade')"
   ]
  },
  {
   "cell_type": "code",
   "execution_count": null,
   "id": "8b979166-30c4-44ae-800e-b40c1b49559d",
   "metadata": {},
   "outputs": [],
   "source": []
  },
  {
   "cell_type": "code",
   "execution_count": null,
   "id": "fcdc5a55-1a2a-427c-88b2-9c0238452fcb",
   "metadata": {},
   "outputs": [],
   "source": [
    "rejected,corr_pvals = fdrcorrection(pvals, alpha=0.05, method='indep', is_sorted=False)"
   ]
  }
 ],
 "metadata": {
  "kernelspec": {
   "display_name": "Python 3 (ipykernel)",
   "language": "python",
   "name": "python3"
  },
  "language_info": {
   "codemirror_mode": {
    "name": "ipython",
    "version": 3
   },
   "file_extension": ".py",
   "mimetype": "text/x-python",
   "name": "python",
   "nbconvert_exporter": "python",
   "pygments_lexer": "ipython3",
   "version": "3.11.10"
  }
 },
 "nbformat": 4,
 "nbformat_minor": 5
}
