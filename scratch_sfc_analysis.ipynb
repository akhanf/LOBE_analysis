{
 "cells": [
  {
   "cell_type": "code",
   "execution_count": 19,
   "id": "af9f485e-b1fb-40c3-9e46-b3f71744a30d",
   "metadata": {},
   "outputs": [],
   "source": [
    "import pandas as pd\n",
    "import nibabel as nib\n",
    "from glob import glob\n",
    "import numpy as np\n"
   ]
  },
  {
   "cell_type": "code",
   "execution_count": 2,
   "id": "2ed2f085-8bd4-40b2-a44f-3863b37f81e2",
   "metadata": {},
   "outputs": [],
   "source": [
    "sfc_pattern='results/{dataset}/sub-{subject}/func/sub-{subject}_task-rest_den-32k_desc-preproc_denoise-24HMP8PhysSpikeReg_fwhm-5_atlas-schaefer_sfc.pscalar.nii'\n",
    "\n",
    "datasets=['HCP','LOBE']\n",
    "\n"
   ]
  },
  {
   "cell_type": "code",
   "execution_count": 3,
   "id": "5a42d3c7-c694-47c4-9663-d1cece1a1f18",
   "metadata": {},
   "outputs": [
    {
     "name": "stdout",
     "output_type": "stream",
     "text": [
      "{'HCP': ['results/HCP/sub-HCD0021614/func/sub-HCD0021614_task-rest_den-32k_desc-preproc_denoise-24HMP8PhysSpikeReg_fwhm-5_atlas-schaefer_sfc.pscalar.nii', 'results/HCP/sub-HCD0026119/func/sub-HCD0026119_task-rest_den-32k_desc-preproc_denoise-24HMP8PhysSpikeReg_fwhm-5_atlas-schaefer_sfc.pscalar.nii', 'results/HCP/sub-HCD0277447/func/sub-HCD0277447_task-rest_den-32k_desc-preproc_denoise-24HMP8PhysSpikeReg_fwhm-5_atlas-schaefer_sfc.pscalar.nii'], 'LOBE': ['results/LOBE/sub-007/func/sub-007_task-rest_den-32k_desc-preproc_denoise-24HMP8PhysSpikeReg_fwhm-5_atlas-schaefer_sfc.pscalar.nii', 'results/LOBE/sub-009/func/sub-009_task-rest_den-32k_desc-preproc_denoise-24HMP8PhysSpikeReg_fwhm-5_atlas-schaefer_sfc.pscalar.nii', 'results/LOBE/sub-010/func/sub-010_task-rest_den-32k_desc-preproc_denoise-24HMP8PhysSpikeReg_fwhm-5_atlas-schaefer_sfc.pscalar.nii']}\n"
     ]
    }
   ],
   "source": [
    "sfc_paths={}\n",
    "sfc_paths['HCP'] = sorted(glob(sfc_pattern.format(dataset='HCP',subject='*')))\n",
    "sfc_paths['LOBE'] = sorted(glob(sfc_pattern.format(dataset='LOBE',subject='*')))\n",
    "\n",
    "\n",
    "print(sfc_paths)"
   ]
  },
  {
   "cell_type": "code",
   "execution_count": 5,
   "id": "78b1621d-c4d6-4f3f-b17c-a7e04c335f74",
   "metadata": {},
   "outputs": [],
   "source": [
    "\n",
    "\n",
    "sfc_nib  = nib.load(sfc_paths['HCP'][0])"
   ]
  },
  {
   "cell_type": "code",
   "execution_count": 8,
   "id": "9b7f1993-1eea-4a04-87fb-d654aea11256",
   "metadata": {},
   "outputs": [
    {
     "data": {
      "text/plain": [
       "(1, 300)"
      ]
     },
     "execution_count": 8,
     "metadata": {},
     "output_type": "execute_result"
    }
   ],
   "source": [
    "sfc_nib.get_fdata().shape\n"
   ]
  },
  {
   "cell_type": "code",
   "execution_count": 22,
   "id": "7ab7eb50-54c6-4722-ab87-d5dfefc0f86f",
   "metadata": {},
   "outputs": [],
   "source": [
    "sfc={}\n",
    "\n",
    "for dataset in datasets:\n",
    "    sfc[dataset] = np.concatenate(  [ nib.load(path).get_fdata()  for path in sfc_paths[dataset]] ,axis=0)"
   ]
  },
  {
   "cell_type": "code",
   "execution_count": 24,
   "id": "6755f01f-a3ce-47fb-a1f9-4d1651324936",
   "metadata": {},
   "outputs": [
    {
     "data": {
      "text/plain": [
       "dict_keys(['HCP', 'LOBE'])"
      ]
     },
     "execution_count": 24,
     "metadata": {},
     "output_type": "execute_result"
    }
   ],
   "source": [
    "sfc.keys()"
   ]
  },
  {
   "cell_type": "code",
   "execution_count": 25,
   "id": "af9f07b0-ee7b-400e-972c-37c439414217",
   "metadata": {},
   "outputs": [
    {
     "data": {
      "text/plain": [
       "(3, 300)"
      ]
     },
     "execution_count": 25,
     "metadata": {},
     "output_type": "execute_result"
    }
   ],
   "source": [
    "sfc['LOBE'].shape"
   ]
  },
  {
   "cell_type": "code",
   "execution_count": null,
   "id": "446acaf3-1a24-4a22-b750-a4f1931fc8ba",
   "metadata": {},
   "outputs": [],
   "source": []
  }
 ],
 "metadata": {
  "kernelspec": {
   "display_name": "Python 3 (ipykernel)",
   "language": "python",
   "name": "python3"
  },
  "language_info": {
   "codemirror_mode": {
    "name": "ipython",
    "version": 3
   },
   "file_extension": ".py",
   "mimetype": "text/x-python",
   "name": "python",
   "nbconvert_exporter": "python",
   "pygments_lexer": "ipython3",
   "version": "3.11.8"
  }
 },
 "nbformat": 4,
 "nbformat_minor": 5
}
