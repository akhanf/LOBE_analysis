{
 "cells": [
  {
   "cell_type": "code",
   "execution_count": 3,
   "id": "af9f485e-b1fb-40c3-9e46-b3f71744a30d",
   "metadata": {},
   "outputs": [],
   "source": [
    "import pandas as pd\n",
    "import nibabel as nib\n",
    "from glob import glob\n",
    "import numpy as np\n"
   ]
  },
  {
   "cell_type": "code",
   "execution_count": 4,
   "id": "2ed2f085-8bd4-40b2-a44f-3863b37f81e2",
   "metadata": {},
   "outputs": [],
   "source": [
    "fc_pattern='results/{dataset}/sub-{subject}/func/sub-{subject}_task-rest_den-32k_desc-preproc_denoise-24HMP8PhysSpikeReg_fwhm-5_atlas-schaefer_bold.pconn.nii'\n",
    "sfc_pattern='results/{dataset}/sub-{subject}/func/sub-{subject}_task-rest_den-32k_desc-preproc_denoise-24HMP8PhysSpikeReg_fwhm-5_atlas-schaefer_sfc.pscalar.nii'\n",
    "\n",
    "\n",
    "datasets=['HCP','LOBE']\n",
    "\n"
   ]
  },
  {
   "cell_type": "code",
   "execution_count": 5,
   "id": "5a42d3c7-c694-47c4-9663-d1cece1a1f18",
   "metadata": {},
   "outputs": [
    {
     "name": "stdout",
     "output_type": "stream",
     "text": [
      "{'HCP': ['results/HCP/sub-HCD0021614/func/sub-HCD0021614_task-rest_den-32k_desc-preproc_denoise-24HMP8PhysSpikeReg_fwhm-5_atlas-schaefer_sfc.pscalar.nii', 'results/HCP/sub-HCD0026119/func/sub-HCD0026119_task-rest_den-32k_desc-preproc_denoise-24HMP8PhysSpikeReg_fwhm-5_atlas-schaefer_sfc.pscalar.nii', 'results/HCP/sub-HCD0277447/func/sub-HCD0277447_task-rest_den-32k_desc-preproc_denoise-24HMP8PhysSpikeReg_fwhm-5_atlas-schaefer_sfc.pscalar.nii'], 'LOBE': ['results/LOBE/sub-007/func/sub-007_task-rest_den-32k_desc-preproc_denoise-24HMP8PhysSpikeReg_fwhm-5_atlas-schaefer_sfc.pscalar.nii', 'results/LOBE/sub-009/func/sub-009_task-rest_den-32k_desc-preproc_denoise-24HMP8PhysSpikeReg_fwhm-5_atlas-schaefer_sfc.pscalar.nii', 'results/LOBE/sub-010/func/sub-010_task-rest_den-32k_desc-preproc_denoise-24HMP8PhysSpikeReg_fwhm-5_atlas-schaefer_sfc.pscalar.nii']}\n",
      "{'HCP': ['results/HCP/sub-HCD0021614/func/sub-HCD0021614_task-rest_den-32k_desc-preproc_denoise-24HMP8PhysSpikeReg_fwhm-5_atlas-schaefer_bold.pconn.nii', 'results/HCP/sub-HCD0026119/func/sub-HCD0026119_task-rest_den-32k_desc-preproc_denoise-24HMP8PhysSpikeReg_fwhm-5_atlas-schaefer_bold.pconn.nii', 'results/HCP/sub-HCD0277447/func/sub-HCD0277447_task-rest_den-32k_desc-preproc_denoise-24HMP8PhysSpikeReg_fwhm-5_atlas-schaefer_bold.pconn.nii'], 'LOBE': ['results/LOBE/sub-007/func/sub-007_task-rest_den-32k_desc-preproc_denoise-24HMP8PhysSpikeReg_fwhm-5_atlas-schaefer_bold.pconn.nii', 'results/LOBE/sub-009/func/sub-009_task-rest_den-32k_desc-preproc_denoise-24HMP8PhysSpikeReg_fwhm-5_atlas-schaefer_bold.pconn.nii', 'results/LOBE/sub-010/func/sub-010_task-rest_den-32k_desc-preproc_denoise-24HMP8PhysSpikeReg_fwhm-5_atlas-schaefer_bold.pconn.nii']}\n"
     ]
    }
   ],
   "source": [
    "sfc_paths={}\n",
    "sfc_paths['HCP'] = sorted(glob(sfc_pattern.format(dataset='HCP',subject='*')))\n",
    "sfc_paths['LOBE'] = sorted(glob(sfc_pattern.format(dataset='LOBE',subject='*')))\n",
    "\n",
    "fc_paths={}\n",
    "fc_paths['HCP'] = sorted(glob(fc_pattern.format(dataset='HCP',subject='*')))\n",
    "fc_paths['LOBE'] = sorted(glob(fc_pattern.format(dataset='LOBE',subject='*')))\n",
    "\n",
    "\n",
    "print(sfc_paths)\n",
    "print(fc_paths)"
   ]
  },
  {
   "cell_type": "code",
   "execution_count": 5,
   "id": "78b1621d-c4d6-4f3f-b17c-a7e04c335f74",
   "metadata": {},
   "outputs": [],
   "source": [
    "\n",
    "\n",
    "sfc_nib  = nib.load(sfc_paths['HCP'][0])"
   ]
  },
  {
   "cell_type": "code",
   "execution_count": 8,
   "id": "9b7f1993-1eea-4a04-87fb-d654aea11256",
   "metadata": {},
   "outputs": [
    {
     "data": {
      "text/plain": [
       "(1, 300)"
      ]
     },
     "execution_count": 8,
     "metadata": {},
     "output_type": "execute_result"
    }
   ],
   "source": [
    "sfc_nib.get_fdata().shape\n"
   ]
  },
  {
   "cell_type": "code",
   "execution_count": 6,
   "id": "7ab7eb50-54c6-4722-ab87-d5dfefc0f86f",
   "metadata": {},
   "outputs": [],
   "source": [
    "sfc={}\n",
    "fc={}\n",
    "for dataset in datasets:\n",
    "    sfc[dataset] = np.concatenate(  [ nib.load(path).get_fdata()  for path in sfc_paths[dataset]] ,axis=0)\n",
    "    fc[dataset] = np.concatenate(  [ nib.load(path).get_fdata()  for path in fc_paths[dataset]] ,axis=0)"
   ]
  },
  {
   "cell_type": "code",
   "execution_count": 24,
   "id": "6755f01f-a3ce-47fb-a1f9-4d1651324936",
   "metadata": {},
   "outputs": [
    {
     "data": {
      "text/plain": [
       "dict_keys(['HCP', 'LOBE'])"
      ]
     },
     "execution_count": 24,
     "metadata": {},
     "output_type": "execute_result"
    }
   ],
   "source": [
    "sfc.keys()"
   ]
  },
  {
   "cell_type": "code",
   "execution_count": 11,
   "id": "af9f07b0-ee7b-400e-972c-37c439414217",
   "metadata": {},
   "outputs": [
    {
     "data": {
      "text/plain": [
       "(3, 300)"
      ]
     },
     "execution_count": 11,
     "metadata": {},
     "output_type": "execute_result"
    }
   ],
   "source": [
    "sfc['LOBE'].shape"
   ]
  },
  {
   "cell_type": "code",
   "execution_count": 12,
   "id": "446acaf3-1a24-4a22-b750-a4f1931fc8ba",
   "metadata": {},
   "outputs": [
    {
     "data": {
      "text/plain": [
       "(900, 300)"
      ]
     },
     "execution_count": 12,
     "metadata": {},
     "output_type": "execute_result"
    }
   ],
   "source": [
    "fc['LOBE'].shape\n",
    "\n",
    "\n"
   ]
  },
  {
   "cell_type": "code",
   "execution_count": 89,
   "id": "0732ca3f-0666-4d3a-964f-ace851e92db9",
   "metadata": {},
   "outputs": [],
   "source": [
    "#process single subject\n",
    "\n",
    "conn = nib.load(fc_paths['HCP'][0]).get_fdata()"
   ]
  },
  {
   "cell_type": "code",
   "execution_count": 90,
   "id": "65f266f6-00c5-41e4-8715-c792c44350d7",
   "metadata": {},
   "outputs": [
    {
     "data": {
      "text/html": [
       "<div>\n",
       "<style scoped>\n",
       "    .dataframe tbody tr th:only-of-type {\n",
       "        vertical-align: middle;\n",
       "    }\n",
       "\n",
       "    .dataframe tbody tr th {\n",
       "        vertical-align: top;\n",
       "    }\n",
       "\n",
       "    .dataframe thead th {\n",
       "        text-align: right;\n",
       "    }\n",
       "</style>\n",
       "<table border=\"1\" class=\"dataframe\">\n",
       "  <thead>\n",
       "    <tr style=\"text-align: right;\">\n",
       "      <th></th>\n",
       "      <th>name</th>\n",
       "      <th>color</th>\n",
       "      <th>x</th>\n",
       "      <th>y</th>\n",
       "      <th>z</th>\n",
       "      <th>networks</th>\n",
       "    </tr>\n",
       "    <tr>\n",
       "      <th>index</th>\n",
       "      <th></th>\n",
       "      <th></th>\n",
       "      <th></th>\n",
       "      <th></th>\n",
       "      <th></th>\n",
       "      <th></th>\n",
       "    </tr>\n",
       "  </thead>\n",
       "  <tbody>\n",
       "    <tr>\n",
       "      <th>1</th>\n",
       "      <td>7Networks_LH_Vis_1</td>\n",
       "      <td>#781184</td>\n",
       "      <td>-33.647</td>\n",
       "      <td>-41.942</td>\n",
       "      <td>-21.283</td>\n",
       "      <td>Vis</td>\n",
       "    </tr>\n",
       "    <tr>\n",
       "      <th>2</th>\n",
       "      <td>7Networks_LH_Vis_2</td>\n",
       "      <td>#781185</td>\n",
       "      <td>-30.465</td>\n",
       "      <td>-35.141</td>\n",
       "      <td>-14.832</td>\n",
       "      <td>Vis</td>\n",
       "    </tr>\n",
       "    <tr>\n",
       "      <th>3</th>\n",
       "      <td>7Networks_LH_Vis_3</td>\n",
       "      <td>#781186</td>\n",
       "      <td>-34.548</td>\n",
       "      <td>-65.625</td>\n",
       "      <td>-15.514</td>\n",
       "      <td>Vis</td>\n",
       "    </tr>\n",
       "    <tr>\n",
       "      <th>4</th>\n",
       "      <td>7Networks_LH_Vis_4</td>\n",
       "      <td>#78127f</td>\n",
       "      <td>-26.215</td>\n",
       "      <td>-54.512</td>\n",
       "      <td>-6.785</td>\n",
       "      <td>Vis</td>\n",
       "    </tr>\n",
       "    <tr>\n",
       "      <th>5</th>\n",
       "      <td>7Networks_LH_Vis_5</td>\n",
       "      <td>#781280</td>\n",
       "      <td>-22.869</td>\n",
       "      <td>-74.146</td>\n",
       "      <td>-7.617</td>\n",
       "      <td>Vis</td>\n",
       "    </tr>\n",
       "    <tr>\n",
       "      <th>...</th>\n",
       "      <td>...</td>\n",
       "      <td>...</td>\n",
       "      <td>...</td>\n",
       "      <td>...</td>\n",
       "      <td>...</td>\n",
       "      <td>...</td>\n",
       "    </tr>\n",
       "    <tr>\n",
       "      <th>296</th>\n",
       "      <td>7Networks_RH_Default_pCunPCC_2</td>\n",
       "      <td>#cc3f4d</td>\n",
       "      <td>17.855</td>\n",
       "      <td>-57.826</td>\n",
       "      <td>20.055</td>\n",
       "      <td>Default</td>\n",
       "    </tr>\n",
       "    <tr>\n",
       "      <th>297</th>\n",
       "      <td>7Networks_RH_Default_pCunPCC_3</td>\n",
       "      <td>#cc3f4e</td>\n",
       "      <td>5.351</td>\n",
       "      <td>-51.907</td>\n",
       "      <td>25.747</td>\n",
       "      <td>Default</td>\n",
       "    </tr>\n",
       "    <tr>\n",
       "      <th>298</th>\n",
       "      <td>7Networks_RH_Default_pCunPCC_4</td>\n",
       "      <td>#cc3f4f</td>\n",
       "      <td>5.225</td>\n",
       "      <td>-37.302</td>\n",
       "      <td>36.612</td>\n",
       "      <td>Default</td>\n",
       "    </tr>\n",
       "    <tr>\n",
       "      <th>299</th>\n",
       "      <td>7Networks_RH_Default_pCunPCC_5</td>\n",
       "      <td>#cc3f50</td>\n",
       "      <td>8.469</td>\n",
       "      <td>-55.786</td>\n",
       "      <td>37.774</td>\n",
       "      <td>Default</td>\n",
       "    </tr>\n",
       "    <tr>\n",
       "      <th>300</th>\n",
       "      <td>7Networks_RH_Default_pCunPCC_6</td>\n",
       "      <td>#cc3f51</td>\n",
       "      <td>8.318</td>\n",
       "      <td>-48.979</td>\n",
       "      <td>45.608</td>\n",
       "      <td>Default</td>\n",
       "    </tr>\n",
       "  </tbody>\n",
       "</table>\n",
       "<p>300 rows × 6 columns</p>\n",
       "</div>"
      ],
      "text/plain": [
       "                                 name    color       x       y       z  \\\n",
       "index                                                                    \n",
       "1                  7Networks_LH_Vis_1  #781184 -33.647 -41.942 -21.283   \n",
       "2                  7Networks_LH_Vis_2  #781185 -30.465 -35.141 -14.832   \n",
       "3                  7Networks_LH_Vis_3  #781186 -34.548 -65.625 -15.514   \n",
       "4                  7Networks_LH_Vis_4  #78127f -26.215 -54.512  -6.785   \n",
       "5                  7Networks_LH_Vis_5  #781280 -22.869 -74.146  -7.617   \n",
       "...                               ...      ...     ...     ...     ...   \n",
       "296    7Networks_RH_Default_pCunPCC_2  #cc3f4d  17.855 -57.826  20.055   \n",
       "297    7Networks_RH_Default_pCunPCC_3  #cc3f4e   5.351 -51.907  25.747   \n",
       "298    7Networks_RH_Default_pCunPCC_4  #cc3f4f   5.225 -37.302  36.612   \n",
       "299    7Networks_RH_Default_pCunPCC_5  #cc3f50   8.469 -55.786  37.774   \n",
       "300    7Networks_RH_Default_pCunPCC_6  #cc3f51   8.318 -48.979  45.608   \n",
       "\n",
       "      networks  \n",
       "index           \n",
       "1          Vis  \n",
       "2          Vis  \n",
       "3          Vis  \n",
       "4          Vis  \n",
       "5          Vis  \n",
       "...        ...  \n",
       "296    Default  \n",
       "297    Default  \n",
       "298    Default  \n",
       "299    Default  \n",
       "300    Default  \n",
       "\n",
       "[300 rows x 6 columns]"
      ]
     },
     "execution_count": 90,
     "metadata": {},
     "output_type": "execute_result"
    }
   ],
   "source": [
    "atlas_tsv = 'resources/atlas/atlas-{atlas}_dseg.tsv'\n",
    "df_atlas = pd.read_csv(atlas_tsv.format(atlas='schaefer'),sep='\\t',index_col='index')\n",
    "df_atlas"
   ]
  },
  {
   "cell_type": "code",
   "execution_count": 91,
   "id": "b26534ae-dda8-4668-bb45-ac3d1cefac0a",
   "metadata": {},
   "outputs": [
    {
     "data": {
      "text/plain": [
       "array(['Vis', 'SomMot', 'DorsAttn', 'SalVentAttn', 'Limbic', 'Cont',\n",
       "       'Default'], dtype=object)"
      ]
     },
     "execution_count": 91,
     "metadata": {},
     "output_type": "execute_result"
    }
   ],
   "source": [
    "network_names = df_atlas.networks.unique()\n",
    "network_names"
   ]
  },
  {
   "cell_type": "code",
   "execution_count": 92,
   "id": "eaf96fcf-1954-4327-b1f6-d41a43662f18",
   "metadata": {},
   "outputs": [],
   "source": [
    "mask_rows=np.zeros(conn.shape)\n",
    "mask_cols=np.zeros(conn.shape)\n",
    "\n",
    "mask_rows[df_atlas.networks == 'Vis',:] = 1\n",
    "mask_cols[:,df_atlas.networks == 'Vis'] = 1\n",
    "mask_diag=np.eye(len(conn))\n",
    "\n",
    "\n",
    "mask_network = mask_rows * mask_cols * (mask_diag==0)\n",
    "mask_network = mask_network.astype(bool)\n",
    "\n",
    "#mask_network\n",
    "mask_network\n",
    "\n",
    "conn_network = conn[mask_network]\n",
    "\n"
   ]
  },
  {
   "cell_type": "code",
   "execution_count": 93,
   "id": "f1787850-d665-4813-86ec-bb951b17c9e9",
   "metadata": {},
   "outputs": [
    {
     "data": {
      "text/plain": [
       "47"
      ]
     },
     "execution_count": 93,
     "metadata": {},
     "output_type": "execute_result"
    }
   ],
   "source": [
    "np.sum(df_atlas.networks == 'Vis')"
   ]
  },
  {
   "cell_type": "code",
   "execution_count": 94,
   "id": "d00cc672-e50a-40e2-969b-4348041402f1",
   "metadata": {},
   "outputs": [
    {
     "data": {
      "text/plain": [
       "2162"
      ]
     },
     "execution_count": 94,
     "metadata": {},
     "output_type": "execute_result"
    }
   ],
   "source": [
    "47*47-47"
   ]
  },
  {
   "cell_type": "code",
   "execution_count": 95,
   "id": "1b8af193-8507-49f0-98eb-dc8141a4aae9",
   "metadata": {},
   "outputs": [
    {
     "ename": "IndexError",
     "evalue": "shape mismatch: indexing arrays could not be broadcast together with shapes (47,) (68,) ",
     "output_type": "error",
     "traceback": [
      "\u001b[0;31m---------------------------------------------------------------------------\u001b[0m",
      "\u001b[0;31mIndexError\u001b[0m                                Traceback (most recent call last)",
      "Cell \u001b[0;32mIn[95], line 1\u001b[0m\n\u001b[0;32m----> 1\u001b[0m \u001b[43mconn\u001b[49m\u001b[43m[\u001b[49m\u001b[43mdf_atlas\u001b[49m\u001b[38;5;241;43m.\u001b[39;49m\u001b[43mnetworks\u001b[49m\u001b[43m \u001b[49m\u001b[38;5;241;43m==\u001b[39;49m\u001b[43m \u001b[49m\u001b[38;5;124;43m'\u001b[39;49m\u001b[38;5;124;43mVis\u001b[39;49m\u001b[38;5;124;43m'\u001b[39;49m\u001b[43m,\u001b[49m\u001b[43mdf_atlas\u001b[49m\u001b[38;5;241;43m.\u001b[39;49m\u001b[43mnetworks\u001b[49m\u001b[43m \u001b[49m\u001b[38;5;241;43m==\u001b[39;49m\u001b[43m \u001b[49m\u001b[38;5;124;43m'\u001b[39;49m\u001b[38;5;124;43mDefault\u001b[39;49m\u001b[38;5;124;43m'\u001b[39;49m\u001b[43m]\u001b[49m\n",
      "File \u001b[0;32m/local/scratch/pypoetry_venv/lobe-analysis-DxVNqYVo-py3.11/lib/python3.11/site-packages/numpy/core/memmap.py:335\u001b[0m, in \u001b[0;36mmemmap.__getitem__\u001b[0;34m(self, index)\u001b[0m\n\u001b[1;32m    334\u001b[0m \u001b[38;5;28;01mdef\u001b[39;00m \u001b[38;5;21m__getitem__\u001b[39m(\u001b[38;5;28mself\u001b[39m, index):\n\u001b[0;32m--> 335\u001b[0m     res \u001b[38;5;241m=\u001b[39m \u001b[38;5;28;43msuper\u001b[39;49m\u001b[43m(\u001b[49m\u001b[43m)\u001b[49m\u001b[38;5;241;43m.\u001b[39;49m\u001b[38;5;21;43m__getitem__\u001b[39;49m\u001b[43m(\u001b[49m\u001b[43mindex\u001b[49m\u001b[43m)\u001b[49m\n\u001b[1;32m    336\u001b[0m     \u001b[38;5;28;01mif\u001b[39;00m \u001b[38;5;28mtype\u001b[39m(res) \u001b[38;5;129;01mis\u001b[39;00m memmap \u001b[38;5;129;01mand\u001b[39;00m res\u001b[38;5;241m.\u001b[39m_mmap \u001b[38;5;129;01mis\u001b[39;00m \u001b[38;5;28;01mNone\u001b[39;00m:\n\u001b[1;32m    337\u001b[0m         \u001b[38;5;28;01mreturn\u001b[39;00m res\u001b[38;5;241m.\u001b[39mview(\u001b[38;5;28mtype\u001b[39m\u001b[38;5;241m=\u001b[39mndarray)\n",
      "\u001b[0;31mIndexError\u001b[0m: shape mismatch: indexing arrays could not be broadcast together with shapes (47,) (68,) "
     ]
    }
   ],
   "source": [
    "conn[df_atlas.networks == 'Vis',df_atlas.networks == 'Default']"
   ]
  },
  {
   "cell_type": "code",
   "execution_count": 96,
   "id": "13f096bd-ab9a-450c-84ac-554d3f4387a9",
   "metadata": {},
   "outputs": [],
   "source": [
    "conn_network = np.zeros((len(network_names),len(network_names)))\n",
    "\n",
    "\n",
    "for i,net_i in enumerate(network_names):\n",
    "    for j,net_j in enumerate(network_names):\n",
    "        mask_rows=np.zeros(conn.shape)\n",
    "        mask_cols=np.zeros(conn.shape)\n",
    "        \n",
    "        mask_rows[df_atlas.networks == net_i,:] = 1\n",
    "        mask_cols[:,df_atlas.networks == net_j] = 1\n",
    "        mask_diag=np.eye(len(conn))\n",
    "        \n",
    "        \n",
    "        mask_network = mask_rows * mask_cols * (mask_diag==0)\n",
    "        mask_network = mask_network.astype(bool)\n",
    "        \n",
    "        #mask the net_i x net_j values, and take mean\n",
    "        conn_vals = conn[mask_network]\n",
    "        conn_network[i,j] = conn_vals.mean()\n",
    "\n"
   ]
  },
  {
   "cell_type": "code",
   "execution_count": 97,
   "id": "ee7e14a7-0d81-4586-97b8-ea24ddd19a91",
   "metadata": {},
   "outputs": [
    {
     "data": {
      "text/plain": [
       "<matplotlib.image.AxesImage at 0x7f91a88db590>"
      ]
     },
     "execution_count": 97,
     "metadata": {},
     "output_type": "execute_result"
    },
    {
     "data": {
      "image/png": "[encoded data removed]",
      "text/plain": [
       "<Figure size 640x480 with 1 Axes>"
      ]
     },
     "metadata": {},
     "output_type": "display_data"
    }
   ],
   "source": [
    "import matplotlib.pyplot as plt\n",
    "plt.imshow(conn_network)"
   ]
  },
  {
   "cell_type": "code",
   "execution_count": 79,
   "id": "b4644a6d-a446-44a3-a202-d38cef8e8edf",
   "metadata": {},
   "outputs": [
    {
     "data": {
      "text/plain": [
       "'SalVentAttn'"
      ]
     },
     "execution_count": 79,
     "metadata": {},
     "output_type": "execute_result"
    }
   ],
   "source": [
    "network_names[3]"
   ]
  },
  {
   "cell_type": "code",
   "execution_count": 99,
   "id": "7d4735e6-6423-4408-a922-9da1056529b7",
   "metadata": {},
   "outputs": [],
   "source": [
    "nib_fc = nib.load(fc_paths['HCP'][0])"
   ]
  },
  {
   "cell_type": "code",
   "execution_count": null,
   "id": "42cf21aa-36b0-4a58-bc2f-967a414ab678",
   "metadata": {},
   "outputs": [],
   "source": [
    "parcel_axis = nib_fc.header.get_axis(0)\n",
    "parcel_axis.vertices"
   ]
  },
  {
   "cell_type": "code",
   "execution_count": 130,
   "id": "fca41104-fd14-46ba-9dd9-0a92eac45ff9",
   "metadata": {},
   "outputs": [
    {
     "ename": "KeyError",
     "evalue": "'CIFTI_STRUCTURE_CORTEX_LEFT'",
     "output_type": "error",
     "traceback": [
      "\u001b[0;31m---------------------------------------------------------------------------\u001b[0m",
      "\u001b[0;31mKeyError\u001b[0m                                  Traceback (most recent call last)",
      "Cell \u001b[0;32mIn[130], line 3\u001b[0m\n\u001b[1;32m      1\u001b[0m \u001b[38;5;28;01mfor\u001b[39;00m i,net \u001b[38;5;129;01min\u001b[39;00m \u001b[38;5;28menumerate\u001b[39m(network_names):\n\u001b[1;32m      2\u001b[0m     region_indices \u001b[38;5;241m=\u001b[39m np\u001b[38;5;241m.\u001b[39mwhere(df_atlas\u001b[38;5;241m.\u001b[39mnetworks \u001b[38;5;241m==\u001b[39m net)[\u001b[38;5;241m0\u001b[39m]\n\u001b[0;32m----> 3\u001b[0m     cortex_left_vertices \u001b[38;5;241m=\u001b[39m \u001b[43m[\u001b[49m\u001b[43mparcel_axis\u001b[49m\u001b[38;5;241;43m.\u001b[39;49m\u001b[43mvertices\u001b[49m\u001b[43m[\u001b[49m\u001b[43mregion\u001b[49m\u001b[43m]\u001b[49m\u001b[43m[\u001b[49m\u001b[38;5;124;43m'\u001b[39;49m\u001b[38;5;124;43mCIFTI_STRUCTURE_CORTEX_LEFT\u001b[39;49m\u001b[38;5;124;43m'\u001b[39;49m\u001b[43m]\u001b[49m\u001b[43m \u001b[49m\u001b[38;5;28;43;01mfor\u001b[39;49;00m\u001b[43m \u001b[49m\u001b[43mregion\u001b[49m\u001b[43m \u001b[49m\u001b[38;5;129;43;01min\u001b[39;49;00m\u001b[43m \u001b[49m\u001b[43mregion_indices\u001b[49m\u001b[43m]\u001b[49m \n\u001b[1;32m      5\u001b[0m     \u001b[38;5;28;01mbreak\u001b[39;00m\n",
      "Cell \u001b[0;32mIn[130], line 3\u001b[0m, in \u001b[0;36m<listcomp>\u001b[0;34m(.0)\u001b[0m\n\u001b[1;32m      1\u001b[0m \u001b[38;5;28;01mfor\u001b[39;00m i,net \u001b[38;5;129;01min\u001b[39;00m \u001b[38;5;28menumerate\u001b[39m(network_names):\n\u001b[1;32m      2\u001b[0m     region_indices \u001b[38;5;241m=\u001b[39m np\u001b[38;5;241m.\u001b[39mwhere(df_atlas\u001b[38;5;241m.\u001b[39mnetworks \u001b[38;5;241m==\u001b[39m net)[\u001b[38;5;241m0\u001b[39m]\n\u001b[0;32m----> 3\u001b[0m     cortex_left_vertices \u001b[38;5;241m=\u001b[39m [\u001b[43mparcel_axis\u001b[49m\u001b[38;5;241;43m.\u001b[39;49m\u001b[43mvertices\u001b[49m\u001b[43m[\u001b[49m\u001b[43mregion\u001b[49m\u001b[43m]\u001b[49m\u001b[43m[\u001b[49m\u001b[38;5;124;43m'\u001b[39;49m\u001b[38;5;124;43mCIFTI_STRUCTURE_CORTEX_LEFT\u001b[39;49m\u001b[38;5;124;43m'\u001b[39;49m\u001b[43m]\u001b[49m \u001b[38;5;28;01mfor\u001b[39;00m region \u001b[38;5;129;01min\u001b[39;00m region_indices] \n\u001b[1;32m      5\u001b[0m     \u001b[38;5;28;01mbreak\u001b[39;00m\n",
      "\u001b[0;31mKeyError\u001b[0m: 'CIFTI_STRUCTURE_CORTEX_LEFT'"
     ]
    }
   ],
   "source": [
    "structures = \n",
    "\n",
    "for i,net in enumerate(network_names):\n",
    "    region_indices = np.where(df_atlas.networks == net)[0]\n",
    "\n",
    "    for structure in ['CIFTI_STRUCTURE_CORTEX_LEFT','CIFTI_STRUCTURE_CORTEX_RIGHT']:\n",
    "        \n",
    "        for region in region_indices]\n",
    "        cortex_left_vertices = [parcel_axis.vertices[region]['CIFTI_STRUCTURE_CORTEX_LEFT'] for region in region_indices] \n",
    "    \n",
    "    break"
   ]
  },
  {
   "cell_type": "code",
   "execution_count": 129,
   "id": "c7b078e5-0250-41f6-a36d-56b97b5ce409",
   "metadata": {},
   "outputs": [
    {
     "data": {
      "text/plain": [
       "array([  0,   1,   2,   3,   4,   5,   6,   7,   8,   9,  10,  11,  12,\n",
       "        13,  14,  15,  16,  17,  18,  19,  20,  21,  22,  23, 150, 151,\n",
       "       152, 153, 154, 155, 156, 157, 158, 159, 160, 161, 162, 163, 164,\n",
       "       165, 166, 167, 168, 169, 170, 171, 172])"
      ]
     },
     "execution_count": 129,
     "metadata": {},
     "output_type": "execute_result"
    }
   ],
   "source": [
    "region_indices = df_atlas.networks == 'Vis'\n",
    "np.where(region_indices)[0]"
   ]
  },
  {
   "cell_type": "code",
   "execution_count": 120,
   "id": "b14fe075-797a-4a81-a250-16fcd38fbd3d",
   "metadata": {},
   "outputs": [
    {
     "data": {
      "text/plain": [
       "{'CIFTI_STRUCTURE_CORTEX_LEFT': array([22694, 22695, 22722, 22723, 22724, 22725, 22726, 22748, 22749,\n",
       "        22750, 22751, 22752, 22753, 22754, 22755, 22756, 22757, 22773,\n",
       "        22774, 22775, 22776, 22777, 22778, 22779, 22780, 22781, 22782,\n",
       "        22783, 22784, 22799, 22800, 22801, 22802, 22803, 22804, 22805,\n",
       "        22806, 22807, 22808, 22809, 22810, 22824, 22825, 22826, 22827,\n",
       "        22828, 22829, 22830, 22831, 22832, 22833, 22834, 22835, 22848,\n",
       "        22849, 22850, 22851, 22852, 22853, 22854, 22855, 22856, 22857,\n",
       "        22858, 22859, 22860, 22872, 22873, 22874, 22875, 22876, 22877,\n",
       "        22878, 22879, 22880, 22881, 22882, 22883, 22896, 22897, 22898,\n",
       "        22899, 22900, 22901, 22902, 22903, 22904, 22905, 22918, 22919,\n",
       "        22920, 22921, 22922, 22923, 22924, 22925, 22926, 22939, 22940,\n",
       "        22941, 22942, 22943, 22944, 22945, 22946, 22959, 22960, 22961,\n",
       "        22962, 22963, 22964, 22965, 22978, 22979, 22980, 22981, 22982,\n",
       "        22983, 22996, 22997, 22998, 22999, 23013, 23014, 23028, 23029,\n",
       "        23043, 23044])}"
      ]
     },
     "execution_count": 120,
     "metadata": {},
     "output_type": "execute_result"
    }
   ],
   "source": [
    "len(parcel_axis.vertices)\n",
    "left_parcel_axis.vertices[0]"
   ]
  },
  {
   "cell_type": "code",
   "execution_count": null,
   "id": "d940f5fa-90fb-43cf-939b-a9ce7aac2a5b",
   "metadata": {},
   "outputs": [],
   "source": []
  },
  {
   "cell_type": "code",
   "execution_count": 113,
   "id": "61733731-1225-4ba8-a139-8e847320079c",
   "metadata": {},
   "outputs": [],
   "source": [
    "network_axis = parcel_axis\n",
    "network_axis.name = network_names"
   ]
  },
  {
   "cell_type": "code",
   "execution_count": 114,
   "id": "5c1d65a5-add0-4259-b7a5-c33b71054087",
   "metadata": {},
   "outputs": [],
   "source": [
    "nib_network = nib.Cifti2Image(conn_network,header=(network_axis,network_axis))"
   ]
  },
  {
   "cell_type": "code",
   "execution_count": 116,
   "id": "e88e3d8b-d003-4666-98e8-23415bc28d84",
   "metadata": {},
   "outputs": [],
   "source": [
    "nib_network.to_filename('test_networkfc.pconn.nii')"
   ]
  },
  {
   "cell_type": "code",
   "execution_count": null,
   "id": "92cca0d7-4c90-4565-b415-b7cb69933c2b",
   "metadata": {},
   "outputs": [],
   "source": []
  }
 ],
 "metadata": {
  "kernelspec": {
   "display_name": "Python 3 (ipykernel)",
   "language": "python",
   "name": "python3"
  },
  "language_info": {
   "codemirror_mode": {
    "name": "ipython",
    "version": 3
   },
   "file_extension": ".py",
   "mimetype": "text/x-python",
   "name": "python",
   "nbconvert_exporter": "python",
   "pygments_lexer": "ipython3",
   "version": "3.11.9"
  }
 },
 "nbformat": 4,
 "nbformat_minor": 5
}
