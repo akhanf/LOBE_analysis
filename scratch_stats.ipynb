{
 "cells": [
  {
   "cell_type": "code",
   "execution_count": null,
   "id": "229a13d7-503d-4942-8c67-e412d5cc06f7",
   "metadata": {},
   "outputs": [],
   "source": []
  },
  {
   "cell_type": "code",
   "execution_count": 63,
   "id": "feb603c4-b73e-450c-9786-3eceb06ed625",
   "metadata": {},
   "outputs": [],
   "source": [
    "import pandas as pd\n",
    "import nibabel as nib\n",
    "from glob import glob\n",
    "import numpy as np\n",
    "import statsmodels.api as sp\n",
    "#imported the full paths since it wasn't working otherwise - not sure why \n",
    "from statsmodels.stats.weightstats import ttest_ind\n",
    "from statsmodels.stats.multitest import fdrcorrection\n"
   ]
  },
  {
   "cell_type": "code",
   "execution_count": 64,
   "id": "43561a46-47b4-4450-a04f-9826b66ecf85",
   "metadata": {},
   "outputs": [],
   "source": [
    "fc_pattern='results/{dataset}/sub-{subject}/func/sub-{subject}_task-rest_den-32k_desc-preproc_denoise-24HMP8PhysSpikeReg_fwhm-5_atlas-schaefer_bold.pconn.nii'\n",
    "sc_pattern='results/{dataset}/sub-{subject}/dwi/sub-{subject}_den-32k_atlas-schaefer_struc.pconn.nii'\n",
    "sfc_pattern='results/{dataset}/sub-{subject}/func/sub-{subject}_task-rest_den-32k_desc-preproc_denoise-24HMP8PhysSpikeReg_fwhm-5_atlas-schaefer_sfc.pscalar.nii'\n",
    "\n",
    "\n",
    "datasets=['HCP','LOBE']\n",
    "\n"
   ]
  },
  {
   "cell_type": "code",
   "execution_count": 66,
   "id": "0d2eb9b7-a219-4370-853c-f683277b6e88",
   "metadata": {
    "scrolled": true
   },
   "outputs": [],
   "source": [
    "sfc_paths={}\n",
    "sfc_paths['HCP'] = sorted(glob(sfc_pattern.format(dataset='HCP',subject='*')))\n",
    "sfc_paths['LOBE'] = sorted(glob(sfc_pattern.format(dataset='LOBE',subject='*')))\n",
    "\n",
    "fc_paths={}\n",
    "fc_paths['HCP'] = sorted(glob(fc_pattern.format(dataset='HCP',subject='*')))\n",
    "fc_paths['LOBE'] = sorted(glob(fc_pattern.format(dataset='LOBE',subject='*')))\n",
    "\n",
    "sc_paths={}\n",
    "sc_paths['HCP'] = sorted(glob(sc_pattern.format(dataset='HCP',subject='*')))\n",
    "sc_paths['LOBE'] = sorted(glob(sc_pattern.format(dataset='LOBE',subject='*')))\n",
    "\n",
    "#print(sfc_paths)\n",
    "#print(fc_paths)\n",
    "#print(sc_paths)"
   ]
  },
  {
   "cell_type": "code",
   "execution_count": null,
   "id": "6b2e154a-d4c4-473e-858f-33d3af6b0d2b",
   "metadata": {},
   "outputs": [],
   "source": [
    "sfc={}\n",
    "fc={}\n",
    "sc={}\n",
    "num_parcels = nib.load(sfc_paths['LOBE'][0]).get_fdata().shape[1]\n",
    "\n",
    "for dataset in datasets:\n",
    "    sfc[dataset] = np.concatenate(  [ nib.load(path).get_fdata()  for path in sfc_paths[dataset]] ,axis=0)\n",
    "    fc[dataset] = np.concatenate(  [ nib.load(path).get_fdata().reshape((1,num_parcels,num_parcels))  for path in fc_paths[dataset]] ,axis=0)\n",
    "    sc[dataset] = np.concatenate(  [ nib.load(path).get_fdata().reshape((1,num_parcels,num_parcels))  for path in sc_paths[dataset]] ,axis=0)"
   ]
  },
  {
   "cell_type": "code",
   "execution_count": null,
   "id": "a0b22269-e4d2-447e-8d20-2da1acf93df0",
   "metadata": {},
   "outputs": [],
   "source": [
    "##SFC T-test and FDR - LOBE vs HCP"
   ]
  },
  {
   "cell_type": "code",
   "execution_count": null,
   "id": "dc579155-a1cd-4720-a5e7-210828e04da4",
   "metadata": {},
   "outputs": [],
   "source": [
    "sfc['LOBE'].shape"
   ]
  },
  {
   "cell_type": "code",
   "execution_count": 28,
   "id": "f6276a78-0a4c-4236-b64f-3621333226af",
   "metadata": {},
   "outputs": [],
   "source": [
    "x1 = sfc['HCP']\n",
    "x2 = sfc['LOBE']"
   ]
  },
  {
   "cell_type": "code",
   "execution_count": 29,
   "id": "a07b8f9c-3bf7-48a0-a220-699f72084c94",
   "metadata": {},
   "outputs": [
    {
     "data": {
      "text/plain": [
       "(14, 300)"
      ]
     },
     "execution_count": 29,
     "metadata": {},
     "output_type": "execute_result"
    }
   ],
   "source": [
    "x2.shape"
   ]
  },
  {
   "cell_type": "code",
   "execution_count": 30,
   "id": "0f3cc929-b64c-48aa-9dc0-3b12a6e65890",
   "metadata": {},
   "outputs": [
    {
     "data": {
      "text/plain": [
       "(300,)"
      ]
     },
     "execution_count": 30,
     "metadata": {},
     "output_type": "execute_result"
    }
   ],
   "source": [
    "tstats,pvals,dfs = ttest_ind(x1, x2, alternative='two-sided', usevar='pooled', weights=(None, None), value=0)\n",
    "tstats.shape"
   ]
  },
  {
   "cell_type": "code",
   "execution_count": 31,
   "id": "a23b8f4d-46cf-4d52-84e4-c2f3d0a8b1cf",
   "metadata": {},
   "outputs": [
    {
     "data": {
      "text/plain": [
       "array([1.70699709e-01, 1.78824864e-01, 2.26960136e-01, 1.88559300e-01,\n",
       "       5.66890299e-01, 6.14631760e-01, 2.51952273e-01, 6.33617811e-01,\n",
       "       4.13519648e-01, 7.38789719e-01, 8.39075179e-01, 1.03768428e-01,\n",
       "       1.49555553e-01, 7.08002286e-01, 3.33001362e-01, 7.75473839e-01,\n",
       "       2.85164578e-01, 2.14727308e-01, 5.78901077e-01, 5.89053450e-01,\n",
       "       6.43934225e-02, 7.63964296e-02, 8.08575307e-03, 3.11774055e-04,\n",
       "       8.87974178e-01, 7.75437313e-01, 9.24945788e-01, 2.60681315e-01,\n",
       "       4.10744700e-01, 1.53628551e-01, 5.92039347e-01, 1.62312334e-01,\n",
       "       8.60003899e-01, 4.21485002e-02, 4.13560234e-01, 8.06349544e-02,\n",
       "       1.08980301e-02, 2.69804073e-01, 1.11270406e-01, 3.41460786e-02,\n",
       "       6.03697259e-01, 5.46079259e-01, 4.87668753e-01, 1.27429067e-01,\n",
       "       1.33117458e-01, 5.25288761e-01, 3.95303180e-01, 3.23160883e-01,\n",
       "       3.27658719e-02, 1.02608151e-01, 3.16066632e-01, 5.67082663e-01,\n",
       "       7.53478841e-01, 8.17526421e-01, 8.78900322e-01, 4.71310760e-01,\n",
       "       8.53185212e-01, 2.49797242e-01, 4.21737385e-01, 7.36567716e-01,\n",
       "       5.87597238e-02, 7.69336039e-01, 6.63190063e-01, 9.21905705e-01,\n",
       "       5.99872073e-01, 9.40517231e-02, 4.15347189e-01, 1.52562340e-01,\n",
       "       1.97973412e-01, 2.51733322e-01, 8.56199759e-01, 4.36353463e-02,\n",
       "       3.20562779e-01, 2.67604060e-01, 2.30642372e-01, 9.23747716e-01,\n",
       "       6.73311799e-01, 6.22627011e-01, 9.03017607e-01, 4.30632117e-01,\n",
       "       6.86526715e-01, 9.83746587e-02, 2.32066469e-01, 5.30968081e-01,\n",
       "       1.44865321e-01, 1.10609490e-01, 5.11251026e-01, 8.81909716e-01,\n",
       "       6.99035003e-02, 5.95733199e-01, 9.38152686e-02, 7.84620928e-03,\n",
       "       1.47102746e-01, 7.21342622e-04, 2.15584141e-01, 9.59780305e-01,\n",
       "       8.35969530e-01, 9.35838545e-01, 7.24468861e-01, 7.53032860e-01,\n",
       "       7.29919600e-01, 2.33636933e-01, 4.66199922e-02, 8.42062876e-01,\n",
       "       8.42589955e-01, 8.97297619e-01, 8.53835168e-01, 5.31209915e-01,\n",
       "       9.83675929e-01, 7.08137240e-01, 2.62319034e-01, 4.92567630e-01,\n",
       "       3.05622391e-01, 9.25132345e-01, 8.32391323e-01, 7.08445639e-03,\n",
       "       4.54741174e-01, 5.78219034e-01, 4.40994928e-01, 1.31329424e-01,\n",
       "       4.91962969e-01, 1.30037940e-01, 2.26370609e-01, 8.26623086e-01,\n",
       "       2.58443020e-01, 9.40887928e-01, 4.20686018e-01, 9.92621782e-02,\n",
       "       2.40113630e-01, 8.12973071e-01, 3.50058802e-01, 7.51020598e-01,\n",
       "       4.43204160e-01, 4.81922433e-02, 1.01252148e-01, 5.60939254e-01,\n",
       "       8.25094201e-01, 1.47955449e-01, 7.75862605e-01, 2.67073685e-01,\n",
       "       6.21250777e-01, 7.86628636e-01, 1.84359860e-01, 7.54369160e-01,\n",
       "       3.47675798e-01, 5.91797036e-01, 5.19065678e-01, 8.82306651e-01,\n",
       "       5.94537611e-01, 4.31715516e-01, 1.85320506e-02, 5.02468070e-03,\n",
       "       1.99379832e-01, 2.06193687e-01, 9.91290186e-01, 2.06085264e-01,\n",
       "       4.04594782e-01, 2.63176416e-01, 7.37653995e-01, 5.30986215e-01,\n",
       "       1.23535913e-04, 2.85250239e-01, 7.78619804e-01, 2.21754230e-01,\n",
       "       8.50679829e-01, 1.87050445e-01, 3.43657157e-01, 7.42842018e-01,\n",
       "       4.14755537e-01, 3.37136311e-01, 1.07814951e-01, 7.79128998e-01,\n",
       "       2.19510945e-03, 8.67685446e-01, 4.08435196e-01, 6.90033306e-01,\n",
       "       8.03387265e-01, 7.38986768e-02, 4.19533447e-01, 8.03701083e-01,\n",
       "       9.49867573e-02, 8.18639222e-01, 1.09024135e-01, 5.72341513e-01,\n",
       "       1.16006472e-01, 8.25626520e-02, 4.47049085e-05, 2.97899461e-01,\n",
       "       9.07509953e-02, 2.79623765e-01, 7.65112005e-01, 5.44109862e-02,\n",
       "       2.32973593e-01, 5.46558375e-01, 1.06208269e-01, 9.31078325e-01,\n",
       "       4.90940964e-01, 3.39831747e-01, 3.79698435e-02, 1.71136153e-02,\n",
       "       2.03135929e-01, 2.68740231e-03, 7.75115054e-01, 8.10938257e-01,\n",
       "       9.22441436e-01, 9.38160469e-01, 2.88954147e-01, 1.64717603e-02,\n",
       "       9.08014120e-01, 9.91958667e-01, 2.11984971e-01, 7.81179172e-01,\n",
       "       6.52778579e-01, 7.09195854e-01, 9.66982566e-01, 2.48149136e-02,\n",
       "       8.27073703e-02, 2.42169472e-02, 4.14212557e-01, 3.35880105e-01,\n",
       "       4.74157022e-01, 1.48633189e-01, 9.62724346e-01, 9.29341518e-01,\n",
       "       6.11242919e-01, 1.41540511e-01, 3.02490624e-02, 7.03462824e-01,\n",
       "       5.79209659e-01, 8.50350821e-01, 4.92106613e-01, 9.84569637e-01,\n",
       "       2.00633549e-01, 5.94829854e-01, 8.35316508e-01, 3.10145703e-01,\n",
       "       1.45477278e-02, 1.94087837e-01, 8.92783431e-01, 4.76565617e-01,\n",
       "       5.29210098e-01, 3.91105090e-02, 3.20781763e-04, 4.94361391e-02,\n",
       "       8.92423375e-01, 1.84021846e-02, 3.13419242e-01, 7.99173426e-01,\n",
       "       4.14268047e-01, 1.24036730e-01, 1.59795424e-01, 7.84189412e-01,\n",
       "       5.30793678e-01, 9.26778664e-01, 3.60711599e-01, 9.80633486e-01,\n",
       "       3.15828400e-01, 6.05933036e-01, 4.79374535e-01, 8.10958895e-01,\n",
       "       6.96154088e-01, 5.65546545e-01, 8.51680626e-01, 7.79565682e-01,\n",
       "       1.71305436e-01, 5.28614496e-01, 9.35934224e-01, 4.14028540e-01,\n",
       "       6.14854948e-01, 3.36767969e-01, 9.44736731e-01, 1.23023495e-01,\n",
       "       8.12611785e-01, 8.45670578e-01, 3.45870514e-01, 6.88946000e-01,\n",
       "       5.72101022e-01, 1.43470124e-01, 1.09804750e-02, 9.33633205e-02,\n",
       "       1.96631092e-01, 4.45153170e-01, 1.92835911e-01, 5.62732168e-01,\n",
       "       9.46310342e-01, 1.06620199e-01, 5.89092484e-01, 5.67395461e-01,\n",
       "       3.03900120e-01, 1.36864713e-01, 4.96650974e-01, 4.15010990e-01,\n",
       "       2.03601540e-01, 7.40828781e-01, 2.37931744e-01, 3.45613924e-01,\n",
       "       9.57435963e-01, 9.46650518e-01, 2.63252151e-01, 6.34155503e-01])"
      ]
     },
     "execution_count": 31,
     "metadata": {},
     "output_type": "execute_result"
    }
   ],
   "source": [
    "pvals"
   ]
  },
  {
   "cell_type": "code",
   "execution_count": 32,
   "id": "0e03caed-b1a7-4afa-8fe6-94c1cd9962cc",
   "metadata": {},
   "outputs": [],
   "source": [
    "rejected,corr_pvals = fdrcorrection(pvals, alpha=0.05, method='indep', is_sorted=False)"
   ]
  },
  {
   "cell_type": "code",
   "execution_count": 33,
   "id": "1c6a51eb-aad9-4c47-9295-a57e84bbee0e",
   "metadata": {},
   "outputs": [
    {
     "data": {
      "text/plain": [
       "array([False, False, False, False, False, False, False, False, False,\n",
       "       False, False, False, False, False, False, False, False, False,\n",
       "       False, False, False, False, False,  True, False, False, False,\n",
       "       False, False, False, False, False, False, False, False, False,\n",
       "       False, False, False, False, False, False, False, False, False,\n",
       "       False, False, False, False, False, False, False, False, False,\n",
       "       False, False, False, False, False, False, False, False, False,\n",
       "       False, False, False, False, False, False, False, False, False,\n",
       "       False, False, False, False, False, False, False, False, False,\n",
       "       False, False, False, False, False, False, False, False, False,\n",
       "       False, False, False,  True, False, False, False, False, False,\n",
       "       False, False, False, False, False, False, False, False, False,\n",
       "       False, False, False, False, False, False, False, False, False,\n",
       "       False, False, False, False, False, False, False, False, False,\n",
       "       False, False, False, False, False, False, False, False, False,\n",
       "       False, False, False, False, False, False, False, False, False,\n",
       "       False, False, False, False, False, False, False, False, False,\n",
       "       False, False, False, False, False, False, False,  True, False,\n",
       "       False, False, False, False, False, False, False, False, False,\n",
       "       False, False, False, False, False, False, False, False, False,\n",
       "       False, False, False, False, False, False,  True, False, False,\n",
       "       False, False, False, False, False, False, False, False, False,\n",
       "       False, False, False, False, False, False, False, False, False,\n",
       "       False, False, False, False, False, False, False, False, False,\n",
       "       False, False, False, False, False, False, False, False, False,\n",
       "       False, False, False, False, False, False, False, False, False,\n",
       "       False, False, False, False, False, False, False, False,  True,\n",
       "       False, False, False, False, False, False, False, False, False,\n",
       "       False, False, False, False, False, False, False, False, False,\n",
       "       False, False, False, False, False, False, False, False, False,\n",
       "       False, False, False, False, False, False, False, False, False,\n",
       "       False, False, False, False, False, False, False, False, False,\n",
       "       False, False, False, False, False, False, False, False, False,\n",
       "       False, False, False])"
      ]
     },
     "execution_count": 33,
     "metadata": {},
     "output_type": "execute_result"
    }
   ],
   "source": [
    "rejected"
   ]
  },
  {
   "cell_type": "code",
   "execution_count": 56,
   "id": "505fbb53-cc82-4ea1-a28d-e9a8b75235dc",
   "metadata": {},
   "outputs": [],
   "source": [
    "# FC avg per parcel, group difference\n",
    "#set diagonal to be nan\n",
    "x1 = fc['HCP']\n",
    "for s in range(x1.shape[0]):\n",
    "    conn = x1[s,:,:]    \n",
    "    mask = np.eye(num_parcels)\n",
    "    conn[mask==1] = np.nan\n",
    "    x1[s,:,:] = conn\n",
    "\n",
    "x2 = fc['LOBE']\n",
    "for s in range(x2.shape[0]):\n",
    "    conn = x2[s,:,:]\n",
    "    mask = np.eye(num_parcels)\n",
    "    conn[mask==1] = np.nan\n",
    "    x2[s,:,:] = conn"
   ]
  },
  {
   "cell_type": "code",
   "execution_count": 57,
   "id": "1d6e7c7f-93fa-4675-b0f8-ae092f3ab3f5",
   "metadata": {},
   "outputs": [
    {
     "data": {
      "text/plain": [
       "(341, 300, 300)"
      ]
     },
     "execution_count": 57,
     "metadata": {},
     "output_type": "execute_result"
    }
   ],
   "source": [
    "x1.shape"
   ]
  },
  {
   "cell_type": "code",
   "execution_count": 58,
   "id": "de4b67dd-8164-4ebe-a0fa-76203f270d28",
   "metadata": {},
   "outputs": [],
   "source": [
    "x1 = np.nanmean(x1,axis=2)\n",
    "x2 = np.nanmean(x2,axis=2)"
   ]
  },
  {
   "cell_type": "code",
   "execution_count": 59,
   "id": "b1cd7545-5740-4021-ac4e-75838de95e42",
   "metadata": {},
   "outputs": [
    {
     "data": {
      "text/plain": [
       "(341, 300)"
      ]
     },
     "execution_count": 59,
     "metadata": {},
     "output_type": "execute_result"
    }
   ],
   "source": [
    "x1.shape"
   ]
  },
  {
   "cell_type": "code",
   "execution_count": 60,
   "id": "ad83ddfe-7d28-4805-81c3-52c9927154ec",
   "metadata": {},
   "outputs": [
    {
     "data": {
      "text/plain": [
       "(14, 300)"
      ]
     },
     "execution_count": 60,
     "metadata": {},
     "output_type": "execute_result"
    }
   ],
   "source": [
    "x2.shape"
   ]
  },
  {
   "cell_type": "code",
   "execution_count": 37,
   "id": "57daad46-a943-4b3f-b209-ef6d3e808703",
   "metadata": {},
   "outputs": [
    {
     "data": {
      "text/plain": [
       "(300,)"
      ]
     },
     "execution_count": 37,
     "metadata": {},
     "output_type": "execute_result"
    }
   ],
   "source": [
    "tstats,pvals,dfs = ttest_ind(x1, x2, alternative='two-sided', usevar='pooled', weights=(None, None), value=0)\n",
    "tstats.shape"
   ]
  },
  {
   "cell_type": "code",
   "execution_count": 38,
   "id": "4d2f4065-8a7a-4faa-9831-c13fca38015f",
   "metadata": {},
   "outputs": [],
   "source": [
    "rejected,corr_pvals = fdrcorrection(pvals, alpha=0.05, method='indep', is_sorted=False)"
   ]
  },
  {
   "cell_type": "code",
   "execution_count": 39,
   "id": "684cf7ed-6674-43ab-9277-b560538a43ef",
   "metadata": {},
   "outputs": [
    {
     "data": {
      "text/plain": [
       "array([False, False, False, False, False, False, False, False, False,\n",
       "       False, False, False, False, False, False, False, False, False,\n",
       "       False, False, False, False, False, False, False, False, False,\n",
       "       False, False, False, False, False, False, False, False, False,\n",
       "       False, False, False, False, False, False, False, False, False,\n",
       "       False, False, False, False, False, False, False, False, False,\n",
       "       False, False, False, False, False, False, False, False, False,\n",
       "       False, False, False, False, False, False, False, False, False,\n",
       "       False, False, False, False, False, False, False, False, False,\n",
       "       False, False, False, False, False, False, False, False, False,\n",
       "       False, False, False, False, False, False, False, False, False,\n",
       "       False, False, False, False, False, False, False, False, False,\n",
       "       False, False, False, False, False, False, False, False, False,\n",
       "       False, False, False, False, False, False, False, False, False,\n",
       "       False, False, False, False, False, False, False, False, False,\n",
       "       False, False, False, False, False, False, False, False, False,\n",
       "       False, False, False, False, False, False, False, False, False,\n",
       "       False, False, False, False, False, False, False, False, False,\n",
       "       False, False, False, False, False, False, False, False, False,\n",
       "       False, False, False, False, False, False, False, False, False,\n",
       "       False, False, False, False, False, False, False, False, False,\n",
       "       False, False, False, False, False, False, False, False, False,\n",
       "       False, False, False, False, False, False, False, False, False,\n",
       "       False, False, False, False, False, False, False, False, False,\n",
       "       False, False, False, False, False, False, False, False, False,\n",
       "       False, False, False, False, False, False, False, False, False,\n",
       "       False, False, False, False, False, False, False, False, False,\n",
       "       False, False, False, False, False, False, False, False, False,\n",
       "       False, False, False, False, False, False, False, False, False,\n",
       "       False, False, False, False, False, False, False, False, False,\n",
       "       False, False, False, False, False, False, False, False, False,\n",
       "       False, False, False, False, False, False, False, False, False,\n",
       "       False, False, False, False, False, False, False, False, False,\n",
       "       False, False, False])"
      ]
     },
     "execution_count": 39,
     "metadata": {},
     "output_type": "execute_result"
    }
   ],
   "source": [
    "rejected"
   ]
  },
  {
   "cell_type": "code",
   "execution_count": 40,
   "id": "f31ff5ca-6866-48d7-b076-c2803b05de23",
   "metadata": {},
   "outputs": [],
   "source": [
    "# SC avg per parcel, group difference\n",
    "#set diagonal to be nan\n",
    "x1 = sc['HCP']\n",
    "for s in range(x1.shape[0]):\n",
    "    conn = x1[s,:,:]    \n",
    "    mask = np.eye(num_parcels)\n",
    "    conn[mask==1] = np.nan\n",
    "    x1[s,:,:] = conn\n",
    "\n",
    "x2 = sc['LOBE']\n",
    "for s in range(x2.shape[0]):\n",
    "    conn = x2[s,:,:]\n",
    "    mask = np.eye(num_parcels)\n",
    "    conn[mask==1] = np.nan\n",
    "    x2[s,:,:] = conn"
   ]
  },
  {
   "cell_type": "code",
   "execution_count": 41,
   "id": "a57c1723-668c-4e39-b942-595302190e2e",
   "metadata": {},
   "outputs": [
    {
     "data": {
      "text/plain": [
       "(340, 300, 300)"
      ]
     },
     "execution_count": 41,
     "metadata": {},
     "output_type": "execute_result"
    }
   ],
   "source": [
    "x1.shape"
   ]
  },
  {
   "cell_type": "code",
   "execution_count": 42,
   "id": "a8808731-0243-4c28-9b18-3b75a0685b10",
   "metadata": {},
   "outputs": [
    {
     "data": {
      "text/plain": [
       "(14, 300)"
      ]
     },
     "execution_count": 42,
     "metadata": {},
     "output_type": "execute_result"
    }
   ],
   "source": [
    "x1 = np.nanmean(x1,axis=2)\n",
    "x1.shape\n",
    "x2 = np.nanmean(x2,axis=2)\n",
    "x2.shape"
   ]
  },
  {
   "cell_type": "code",
   "execution_count": 61,
   "id": "407e956b-7d84-4ed7-9d39-a586a45ec619",
   "metadata": {},
   "outputs": [
    {
     "data": {
      "text/plain": [
       "(341, 300)"
      ]
     },
     "execution_count": 61,
     "metadata": {},
     "output_type": "execute_result"
    }
   ],
   "source": [
    "x1.shape"
   ]
  },
  {
   "cell_type": "code",
   "execution_count": 62,
   "id": "109c3923-2baf-418e-8c56-737525cfc1d8",
   "metadata": {},
   "outputs": [
    {
     "data": {
      "text/plain": [
       "(14, 300)"
      ]
     },
     "execution_count": 62,
     "metadata": {},
     "output_type": "execute_result"
    }
   ],
   "source": [
    "x2.shape"
   ]
  },
  {
   "cell_type": "code",
   "execution_count": 43,
   "id": "1a1ff5a5-8e16-4739-ba04-9d3733cc258e",
   "metadata": {},
   "outputs": [
    {
     "data": {
      "text/plain": [
       "(300,)"
      ]
     },
     "execution_count": 43,
     "metadata": {},
     "output_type": "execute_result"
    }
   ],
   "source": [
    "tstats,pvals,dfs = ttest_ind(x1, x2, alternative='two-sided', usevar='pooled', weights=(None, None), value=0)\n",
    "tstats.shape"
   ]
  },
  {
   "cell_type": "code",
   "execution_count": 44,
   "id": "23fefdec-0ddb-458d-ae3d-2fa0caaa9913",
   "metadata": {},
   "outputs": [],
   "source": [
    "rejected,corr_pvals = fdrcorrection(pvals, alpha=0.05, method='indep', is_sorted=False)"
   ]
  },
  {
   "cell_type": "code",
   "execution_count": 45,
   "id": "466af925-d4d8-4e64-956b-884f65141396",
   "metadata": {
    "scrolled": true
   },
   "outputs": [
    {
     "data": {
      "text/plain": [
       "array([False, False, False, False, False, False, False, False, False,\n",
       "       False, False, False, False, False, False, False, False, False,\n",
       "       False, False, False, False, False, False, False, False, False,\n",
       "       False, False, False, False, False, False, False, False, False,\n",
       "       False, False, False, False, False, False, False, False, False,\n",
       "       False, False, False, False, False, False, False, False, False,\n",
       "       False, False, False, False, False, False, False, False, False,\n",
       "       False, False, False, False, False, False, False, False, False,\n",
       "       False, False, False, False, False, False, False, False, False,\n",
       "       False, False, False, False, False, False, False, False, False,\n",
       "       False, False, False, False, False, False, False, False, False,\n",
       "       False, False, False, False, False, False, False, False, False,\n",
       "       False, False, False, False, False, False, False, False, False,\n",
       "       False, False, False, False, False, False, False, False, False,\n",
       "       False, False, False, False, False, False, False, False, False,\n",
       "       False, False, False, False, False, False, False, False, False,\n",
       "       False, False, False, False, False, False, False, False, False,\n",
       "       False, False, False, False, False, False, False, False, False,\n",
       "       False, False, False, False, False, False, False, False, False,\n",
       "       False, False, False, False, False, False, False, False, False,\n",
       "       False, False, False, False, False, False, False, False, False,\n",
       "       False, False, False, False, False, False, False, False, False,\n",
       "       False, False, False, False, False, False, False, False, False,\n",
       "       False, False, False, False, False, False, False, False, False,\n",
       "       False, False, False, False, False, False, False, False, False,\n",
       "       False, False, False, False, False, False, False, False, False,\n",
       "       False, False, False, False, False, False, False, False, False,\n",
       "       False, False, False, False, False, False, False, False, False,\n",
       "       False, False, False, False, False, False, False, False, False,\n",
       "       False, False, False, False, False, False, False, False, False,\n",
       "       False, False, False, False, False, False, False, False, False,\n",
       "       False, False, False, False, False, False, False, False, False,\n",
       "       False, False, False, False, False, False, False, False, False,\n",
       "       False, False, False])"
      ]
     },
     "execution_count": 45,
     "metadata": {},
     "output_type": "execute_result"
    }
   ],
   "source": [
    "rejected"
   ]
  },
  {
   "cell_type": "code",
   "execution_count": null,
   "id": "c36ad8a0-8e73-4b0d-9f24-cd20dceb6c14",
   "metadata": {},
   "outputs": [],
   "source": []
  }
 ],
 "metadata": {
  "kernelspec": {
   "display_name": "Python 3 (ipykernel)",
   "language": "python",
   "name": "python3"
  },
  "language_info": {
   "codemirror_mode": {
    "name": "ipython",
    "version": 3
   },
   "file_extension": ".py",
   "mimetype": "text/x-python",
   "name": "python",
   "nbconvert_exporter": "python",
   "pygments_lexer": "ipython3",
   "version": "3.11.8"
  }
 },
 "nbformat": 4,
 "nbformat_minor": 5
}
