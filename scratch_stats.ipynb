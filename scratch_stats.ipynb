{
 "cells": [
  {
   "cell_type": "code",
   "execution_count": null,
   "id": "229a13d7-503d-4942-8c67-e412d5cc06f7",
   "metadata": {},
   "outputs": [],
   "source": []
  },
  {
   "cell_type": "code",
   "execution_count": 165,
   "id": "feb603c4-b73e-450c-9786-3eceb06ed625",
   "metadata": {},
   "outputs": [],
   "source": [
    "import pandas as pd\n",
    "import nibabel as nib\n",
    "from glob import glob\n",
    "import numpy as np\n",
    "import statsmodels as sp\n"
   ]
  },
  {
   "cell_type": "code",
   "execution_count": 166,
   "id": "43561a46-47b4-4450-a04f-9826b66ecf85",
   "metadata": {},
   "outputs": [],
   "source": [
    "fc_pattern='results/{dataset}/sub-{subject}/func/sub-{subject}_task-rest_den-32k_desc-preproc_denoise-24HMP8PhysSpikeReg_fwhm-5_atlas-schaefer_bold.pconn.nii'\n",
    "sc_pattern='results/{dataset}/sub-{subject}/dwi/sub-{subject}_den-32k_atlas-schaefer_struc.pconn.nii'\n",
    "sfc_pattern='results/{dataset}/sub-{subject}/func/sub-{subject}_task-rest_den-32k_desc-preproc_denoise-24HMP8PhysSpikeReg_fwhm-5_atlas-schaefer_sfc.pscalar.nii'\n",
    "\n",
    "\n",
    "datasets=['HCP','LOBE']\n",
    "\n"
   ]
  },
  {
   "cell_type": "code",
   "execution_count": 167,
   "id": "0d2eb9b7-a219-4370-853c-f683277b6e88",
   "metadata": {},
   "outputs": [
    {
     "name": "stdout",
     "output_type": "stream",
     "text": [
      "{'HCP': ['results/HCP/sub-HCD0021614/func/sub-HCD0021614_task-rest_den-32k_desc-preproc_denoise-24HMP8PhysSpikeReg_fwhm-5_atlas-schaefer_sfc.pscalar.nii', 'results/HCP/sub-HCD0026119/func/sub-HCD0026119_task-rest_den-32k_desc-preproc_denoise-24HMP8PhysSpikeReg_fwhm-5_atlas-schaefer_sfc.pscalar.nii', 'results/HCP/sub-HCD0277447/func/sub-HCD0277447_task-rest_den-32k_desc-preproc_denoise-24HMP8PhysSpikeReg_fwhm-5_atlas-schaefer_sfc.pscalar.nii'], 'LOBE': ['results/LOBE/sub-007/func/sub-007_task-rest_den-32k_desc-preproc_denoise-24HMP8PhysSpikeReg_fwhm-5_atlas-schaefer_sfc.pscalar.nii', 'results/LOBE/sub-009/func/sub-009_task-rest_den-32k_desc-preproc_denoise-24HMP8PhysSpikeReg_fwhm-5_atlas-schaefer_sfc.pscalar.nii', 'results/LOBE/sub-010/func/sub-010_task-rest_den-32k_desc-preproc_denoise-24HMP8PhysSpikeReg_fwhm-5_atlas-schaefer_sfc.pscalar.nii']}\n",
      "{'HCP': ['results/HCP/sub-HCD0021614/func/sub-HCD0021614_task-rest_den-32k_desc-preproc_denoise-24HMP8PhysSpikeReg_fwhm-5_atlas-schaefer_bold.pconn.nii', 'results/HCP/sub-HCD0026119/func/sub-HCD0026119_task-rest_den-32k_desc-preproc_denoise-24HMP8PhysSpikeReg_fwhm-5_atlas-schaefer_bold.pconn.nii', 'results/HCP/sub-HCD0277447/func/sub-HCD0277447_task-rest_den-32k_desc-preproc_denoise-24HMP8PhysSpikeReg_fwhm-5_atlas-schaefer_bold.pconn.nii'], 'LOBE': ['results/LOBE/sub-007/func/sub-007_task-rest_den-32k_desc-preproc_denoise-24HMP8PhysSpikeReg_fwhm-5_atlas-schaefer_bold.pconn.nii', 'results/LOBE/sub-009/func/sub-009_task-rest_den-32k_desc-preproc_denoise-24HMP8PhysSpikeReg_fwhm-5_atlas-schaefer_bold.pconn.nii', 'results/LOBE/sub-010/func/sub-010_task-rest_den-32k_desc-preproc_denoise-24HMP8PhysSpikeReg_fwhm-5_atlas-schaefer_bold.pconn.nii']}\n",
      "{'HCP': ['results/HCP/sub-HCD0021614/dwi/sub-HCD0021614_den-32k_atlas-schaefer_struc.pconn.nii', 'results/HCP/sub-HCD0026119/dwi/sub-HCD0026119_den-32k_atlas-schaefer_struc.pconn.nii', 'results/HCP/sub-HCD0277447/dwi/sub-HCD0277447_den-32k_atlas-schaefer_struc.pconn.nii'], 'LOBE': ['results/LOBE/sub-007/dwi/sub-007_den-32k_atlas-schaefer_struc.pconn.nii', 'results/LOBE/sub-009/dwi/sub-009_den-32k_atlas-schaefer_struc.pconn.nii', 'results/LOBE/sub-010/dwi/sub-010_den-32k_atlas-schaefer_struc.pconn.nii']}\n"
     ]
    }
   ],
   "source": [
    "sfc_paths={}\n",
    "sfc_paths['HCP'] = sorted(glob(sfc_pattern.format(dataset='HCP',subject='*')))\n",
    "sfc_paths['LOBE'] = sorted(glob(sfc_pattern.format(dataset='LOBE',subject='*')))\n",
    "\n",
    "fc_paths={}\n",
    "fc_paths['HCP'] = sorted(glob(fc_pattern.format(dataset='HCP',subject='*')))\n",
    "fc_paths['LOBE'] = sorted(glob(fc_pattern.format(dataset='LOBE',subject='*')))\n",
    "\n",
    "sc_paths={}\n",
    "sc_paths['HCP'] = sorted(glob(sc_pattern.format(dataset='HCP',subject='*')))\n",
    "sc_paths['LOBE'] = sorted(glob(sc_pattern.format(dataset='LOBE',subject='*')))\n",
    "\n",
    "print(sfc_paths)\n",
    "print(fc_paths)\n",
    "print(sc_paths)"
   ]
  },
  {
   "cell_type": "code",
   "execution_count": 168,
   "id": "6b2e154a-d4c4-473e-858f-33d3af6b0d2b",
   "metadata": {},
   "outputs": [],
   "source": [
    "sfc={}\n",
    "fc={}\n",
    "sc={}\n",
    "\n",
    "num_parcels = nib.load(sfc_paths['LOBE'][0]).get_fdata().shape[1]\n",
    "\n",
    "for dataset in datasets:\n",
    "    sfc[dataset] = np.concatenate(  [ nib.load(path).get_fdata()  for path in sfc_paths[dataset]] ,axis=0)\n",
    "    fc[dataset] = np.concatenate(  [ nib.load(path).get_fdata().reshape((1,num_parcels,num_parcels))  for path in fc_paths[dataset]] ,axis=0)\n",
    "    sc[dataset] = np.concatenate(  [ nib.load(path).get_fdata().reshape((1,num_parcels,num_parcels))  for path in sc_paths[dataset]] ,axis=0)"
   ]
  },
  {
   "cell_type": "code",
   "execution_count": null,
   "id": "dc579155-a1cd-4720-a5e7-210828e04da4",
   "metadata": {},
   "outputs": [],
   "source": []
  },
  {
   "cell_type": "code",
   "execution_count": 169,
   "id": "3df6e9f3-70ed-4493-9a7f-ea24eae55e51",
   "metadata": {},
   "outputs": [
    {
     "data": {
      "text/plain": [
       "(300, 300)"
      ]
     },
     "execution_count": 169,
     "metadata": {},
     "output_type": "execute_result"
    }
   ],
   "source": [
    "nib.load(sc_paths['LOBE'][0]).get_fdata().shape"
   ]
  },
  {
   "cell_type": "code",
   "execution_count": 170,
   "id": "f6276a78-0a4c-4236-b64f-3621333226af",
   "metadata": {},
   "outputs": [],
   "source": [
    "# SFC group difference\n",
    "x1 = sfc['HCP']\n",
    "x2 = sfc['LOBE']"
   ]
  },
  {
   "cell_type": "code",
   "execution_count": 171,
   "id": "13e9e517-0fc4-487a-9c1a-c374577d5d4a",
   "metadata": {},
   "outputs": [
    {
     "data": {
      "text/plain": [
       "(3, 300)"
      ]
     },
     "execution_count": 171,
     "metadata": {},
     "output_type": "execute_result"
    }
   ],
   "source": [
    "x1.shape"
   ]
  },
  {
   "cell_type": "code",
   "execution_count": 172,
   "id": "74edb5c4-5056-499e-a5b0-f5f5c42abc37",
   "metadata": {
    "scrolled": true
   },
   "outputs": [
    {
     "data": {
      "text/plain": [
       "(300,)"
      ]
     },
     "execution_count": 172,
     "metadata": {},
     "output_type": "execute_result"
    }
   ],
   "source": [
    "tstats,pvals,dfs = sp.stats.weightstats.ttest_ind(x1, x2, alternative='two-sided', usevar='pooled', weights=(None, None), value=0)\n",
    "tstats.shape"
   ]
  },
  {
   "cell_type": "code",
   "execution_count": 173,
   "id": "68d029cd-b8b5-458e-a49a-ec4d7f568f1f",
   "metadata": {},
   "outputs": [],
   "source": [
    "rejected,corr_pvals = sp.stats.multitest.fdrcorrection(pvals, alpha=0.05, method='indep', is_sorted=False)"
   ]
  },
  {
   "cell_type": "code",
   "execution_count": 175,
   "id": "ce17147c-1ea8-4883-a77b-63c121cd734a",
   "metadata": {},
   "outputs": [],
   "source": [
    "#this sets diag to nan to ignore it\n"
   ]
  },
  {
   "cell_type": "code",
   "execution_count": 184,
   "id": "b6aad5ff-c763-488c-b6d5-143037c605c4",
   "metadata": {},
   "outputs": [],
   "source": [
    "# FC avg per parcel, group difference\n",
    "#set diagonal to be nan\n",
    "x1 = fc['HCP']\n",
    "for s in range(x1.shape[0]):\n",
    "    conn = x1[s,:,:]    \n",
    "    mask = np.eye(num_parcels)\n",
    "    conn[mask==1] = np.nan\n",
    "    x1[s,:,:] = conn\n",
    "\n",
    "x2 = fc['LOBE']\n",
    "for s in range(x2.shape[0]):\n",
    "    conn = x2[s,:,:]\n",
    "    mask = np.eye(num_parcels)\n",
    "    conn[mask==1] = np.nan\n",
    "    x2[s,:,:] = conn\n"
   ]
  },
  {
   "cell_type": "code",
   "execution_count": 185,
   "id": "86d7f6bc-e5b6-45d0-849f-e5ffa0d18d17",
   "metadata": {},
   "outputs": [
    {
     "data": {
      "text/plain": [
       "(3, 300)"
      ]
     },
     "execution_count": 185,
     "metadata": {},
     "output_type": "execute_result"
    }
   ],
   "source": [
    "x1 = np.nanmean(x1,axis=2)\n",
    "x1.shape\n",
    "x2 = np.nanmean(x2,axis=2)\n",
    "x2.shape"
   ]
  },
  {
   "cell_type": "code",
   "execution_count": 186,
   "id": "857efd8c-c671-45dc-90a2-0f06190017d7",
   "metadata": {
    "scrolled": true
   },
   "outputs": [
    {
     "data": {
      "text/plain": [
       "(300,)"
      ]
     },
     "execution_count": 186,
     "metadata": {},
     "output_type": "execute_result"
    }
   ],
   "source": [
    "tstats,pvals,dfs = sp.stats.weightstats.ttest_ind(x1, x2, alternative='two-sided', usevar='pooled', weights=(None, None), value=0)\n",
    "tstats.shape"
   ]
  },
  {
   "cell_type": "code",
   "execution_count": 187,
   "id": "8f258ee1-1dc0-42af-967b-e066336c5792",
   "metadata": {},
   "outputs": [],
   "source": [
    "rejected,corr_pvals = sp.stats.multitest.fdrcorrection(pvals, alpha=0.05, method='indep', is_sorted=False)"
   ]
  },
  {
   "cell_type": "code",
   "execution_count": 188,
   "id": "af14af9a-4c0e-4030-b5fa-b23c519ab8ee",
   "metadata": {},
   "outputs": [
    {
     "data": {
      "text/plain": [
       "array([False, False, False, False, False, False, False, False, False,\n",
       "       False, False, False, False, False, False, False, False, False,\n",
       "       False, False, False, False, False, False, False, False, False,\n",
       "       False, False, False, False, False, False, False, False, False,\n",
       "       False, False, False, False, False, False, False, False, False,\n",
       "       False, False, False, False, False, False, False, False, False,\n",
       "       False, False, False, False, False, False, False, False, False,\n",
       "       False, False, False, False, False, False, False, False, False,\n",
       "       False, False, False, False, False, False, False, False, False,\n",
       "       False, False, False, False, False, False, False, False, False,\n",
       "       False, False, False, False, False, False, False, False, False,\n",
       "       False, False, False, False, False, False, False, False, False,\n",
       "       False, False, False, False, False, False, False, False, False,\n",
       "       False, False, False, False, False, False, False, False, False,\n",
       "       False, False, False, False, False, False, False, False, False,\n",
       "       False, False, False, False, False, False, False, False, False,\n",
       "       False, False, False, False, False, False, False, False, False,\n",
       "       False, False, False, False, False, False, False, False, False,\n",
       "       False, False, False, False, False, False, False, False, False,\n",
       "       False, False, False, False, False, False, False, False, False,\n",
       "       False, False, False, False, False, False, False, False, False,\n",
       "       False, False, False, False, False, False, False, False, False,\n",
       "       False, False, False, False, False, False, False, False, False,\n",
       "       False, False, False, False, False, False, False, False, False,\n",
       "       False, False, False, False, False, False, False, False, False,\n",
       "       False, False, False, False, False, False, False, False, False,\n",
       "       False, False, False, False, False, False, False, False, False,\n",
       "       False, False, False, False, False, False, False, False, False,\n",
       "       False, False, False, False, False, False, False, False, False,\n",
       "       False, False, False, False, False, False, False, False, False,\n",
       "       False, False, False, False, False, False, False, False, False,\n",
       "       False, False, False, False, False, False, False, False, False,\n",
       "       False, False, False, False, False, False, False, False, False,\n",
       "       False, False, False])"
      ]
     },
     "execution_count": 188,
     "metadata": {},
     "output_type": "execute_result"
    }
   ],
   "source": [
    "rejected"
   ]
  },
  {
   "cell_type": "code",
   "execution_count": null,
   "id": "cdbc9f24-57d9-4f14-8f09-509db5e300cc",
   "metadata": {},
   "outputs": [],
   "source": []
  }
 ],
 "metadata": {
  "kernelspec": {
   "display_name": "Python 3 (ipykernel)",
   "language": "python",
   "name": "python3"
  },
  "language_info": {
   "codemirror_mode": {
    "name": "ipython",
    "version": 3
   },
   "file_extension": ".py",
   "mimetype": "text/x-python",
   "name": "python",
   "nbconvert_exporter": "python",
   "pygments_lexer": "ipython3",
   "version": "3.11.8"
  }
 },
 "nbformat": 4,
 "nbformat_minor": 5
}
